{
 "cells": [
  {
   "cell_type": "markdown",
   "id": "26f3fdf5",
   "metadata": {},
   "source": [
    "# Project 3: Fake News Detection"
   ]
  },
  {
   "cell_type": "markdown",
   "id": "96e0290a",
   "metadata": {},
   "source": [
    "#### Bảng phân công công việc: \n",
    "\n",
    "| MSSV     | Họ và tên       | Công việc    |\n",
    "|----------|-----------------|-----------|\n",
    "| 19120186  | Đỗ Lê Khánh Đăng | Tiền xử lí văn bản tiếng việt |\n",
    "| 19120412  | Nguyễn Minh Tú | Khám phá dữ liệu |\n",
    "| 19120462  | Lục Minh Bửu | Deploy mô hình |\n",
    "| 19120467  | Ngô Hữu Đang | Mô hình hóa |"
   ]
  },
  {
   "cell_type": "markdown",
   "id": "8e836a66",
   "metadata": {},
   "source": [
    "####  [Link web deploy](https://share.streamlit.io/lcminhbu/streamlitapp/main/main.py?fbclid=IwAR3ASP_CG4drd81d689vI2WuFblDtRXMDk-d9Pe3Glogc4MXWQ7mlwSZru0)"
   ]
  },
  {
   "cell_type": "markdown",
   "id": "9d655628",
   "metadata": {},
   "source": [
    "## Cài đặt thêm thư viện liên quan"
   ]
  },
  {
   "cell_type": "code",
   "execution_count": 1,
   "id": "vxts0XQTrDS5",
   "metadata": {
    "colab": {
     "base_uri": "https://localhost:8080/"
    },
    "id": "vxts0XQTrDS5",
    "outputId": "5ccc3c9d-1e7b-4519-e756-9486e718d11b"
   },
   "outputs": [],
   "source": [
    "# !pip install underthesea"
   ]
  },
  {
   "cell_type": "markdown",
   "id": "10b40ccb",
   "metadata": {},
   "source": [
    "## Thêm các thư viện liên quan"
   ]
  },
  {
   "cell_type": "code",
   "execution_count": 2,
   "id": "8f2c7bcd",
   "metadata": {
    "id": "8f2c7bcd"
   },
   "outputs": [],
   "source": [
    "import pandas as pd\n",
    "import re\n",
    "import matplotlib.pyplot as plt\n",
    "import joblib\n",
    "from sklearn.model_selection import train_test_split\n",
    "from underthesea import word_tokenize\n",
    "from sklearn.naive_bayes import MultinomialNB\n",
    "from sklearn.feature_extraction.text import CountVectorizer\n",
    "from sklearn.tree import DecisionTreeClassifier"
   ]
  },
  {
   "cell_type": "markdown",
   "id": "fb357f59",
   "metadata": {},
   "source": [
    "## Cài đặt hiện thị DataFrame"
   ]
  },
  {
   "cell_type": "code",
   "execution_count": 3,
   "id": "bbe82555",
   "metadata": {
    "id": "bbe82555"
   },
   "outputs": [],
   "source": [
    "pd.set_option('display.max_rows', None)\n",
    "pd.set_option('display.max_columns', None)\n",
    "pd.set_option('display.width', None)\n",
    "pd.set_option('display.max_colwidth', None)"
   ]
  },
  {
   "cell_type": "markdown",
   "id": "3_qiYGbdqNT8",
   "metadata": {
    "id": "3_qiYGbdqNT8"
   },
   "source": [
    "## Đọc dữ liệu"
   ]
  },
  {
   "cell_type": "markdown",
   "id": "7fde1eb8",
   "metadata": {},
   "source": [
    "- vn_news_223_tdlfr.csv là file chứa news cần xử lý  <br />\n",
    "- vietnamese-stopwords.txt chứa các stop word cần xử lý"
   ]
  },
  {
   "cell_type": "code",
   "execution_count": 4,
   "id": "c0f6240d",
   "metadata": {
    "id": "c0f6240d"
   },
   "outputs": [],
   "source": [
    "data_df = pd.read_csv('vn_news_223_tdlfr.csv', encoding = 'utf-8')\n",
    "file = open('vietnamese-stopwords.txt','r', encoding = 'utf-8')\n",
    "stopWords = file.read().split('\\n')\n",
    "file.close()"
   ]
  },
  {
   "cell_type": "markdown",
   "id": "6e3575f9",
   "metadata": {
    "colab": {
     "base_uri": "https://localhost:8080/",
     "height": 1000
    },
    "id": "i0WX-NxluIbX",
    "outputId": "60d08534-28a9-4de2-ac7b-8e92c6e0a535"
   },
   "source": [
    "## Khám phá dữ liệu"
   ]
  },
  {
   "cell_type": "markdown",
   "id": "d4029e15",
   "metadata": {},
   "source": [
    "### Xem các mẫu dữ liệu"
   ]
  },
  {
   "cell_type": "code",
   "execution_count": 5,
   "id": "d3ad8674",
   "metadata": {},
   "outputs": [
    {
     "data": {
      "text/html": [
       "<div>\n",
       "<style scoped>\n",
       "    .dataframe tbody tr th:only-of-type {\n",
       "        vertical-align: middle;\n",
       "    }\n",
       "\n",
       "    .dataframe tbody tr th {\n",
       "        vertical-align: top;\n",
       "    }\n",
       "\n",
       "    .dataframe thead th {\n",
       "        text-align: right;\n",
       "    }\n",
       "</style>\n",
       "<table border=\"1\" class=\"dataframe\">\n",
       "  <thead>\n",
       "    <tr style=\"text-align: right;\">\n",
       "      <th></th>\n",
       "      <th>text</th>\n",
       "      <th>domain</th>\n",
       "      <th>label</th>\n",
       "    </tr>\n",
       "  </thead>\n",
       "  <tbody>\n",
       "    <tr>\n",
       "      <th>46</th>\n",
       "      <td>Cậu bé kinh hãi khi thấy chân lúc nhúc hàng triệu sinh vật bấu chặt, cúi xuống phát hiện sự thật bàng hoàng\\nKinh ngạc cảnh tượng hàng triệu sinh vật bò nhung nhúc bấu chặt lấy chân.\\nChristmas là một đảo nhỏ thuộc Úc, cách 2.600 km về Phía tây bắc thành phố Perth. Hòn đảo là quê hương của vô số các loài động – thực vật vô cùng phong phú và kỳ lạ. Nếu không chú ý, những du khách lần đầu tiên đến tham quan hòn đảo này thường gặp nhiều “phe” sởn gai ốc, khi ra vừa chỉ đứng im vài phút thôi, đã thấy dưới bàn chân mình rờn rợn, nhung nhúc vô cùng nhiều sinh vật kỳ lạ đang bò lên và bấu chặt lấy. Thậm chí, cả những con đường hay cả bờ biển nơi đây đều bị nhuộm một màu đỏ rực.\\nHàng trăm triệu con cua bò lên bấu chặt lấy chân cậu bé.\\nBờ biển nhuộm màu đỏ rực.\\nCác sinh vật lạ nhung nhúc bò trên mỏm đá.\\nSau quá trình tìm hiểu thông qua người dân địa phương, các du khách mới ngã ngửa khi biết rằng nguyên nhân của hiện tượng kỳ quái này chính là cuộc di cư thường năm của loài cua đỏ.\\nCuộc di cư đặc biệt này thường diễn ra với quy mô lớn.\\nVào mỗi mùa giao phối, loài cua đỏ đặc biệt này di cư với quy mô lớn, nó được ví như một cơn thủy triều đỏ khủng khiếp. Theo các nhà nghiên cứu, do điều kiện khí hậu mùa mưa giúp cho việc di chuyển thuận tiện và dễ dàng hơn nên khoảng thời gian di cư của loài cua đỏ này thường bắt đầu vào khoảng tháng 10 – 12.\\nVào mùa mưa, hàng triệu con cua đỏ này lại di cư ra biển để bắt đầu mùa sinh sản mới.\\nSố lượng đàn cua đỏ di chuyển trong mỗi lần di cư rất đông, nên chính quyền địa phương phải đặt các tấm biểu báo cấm đường dành cho các phương tiện và người đi bộ nhằm tránh làm tổn thương đến chúng.\\nChính quyền địa phương phải đặt các tấm biểu báo cấm đường dành cho các phương tiện và người đi bộ nhằm tránh làm tổn thương đến chúng.\\nXem thêm: Muốn hờn cả thế giới khi chứng kiến sự thật trắng trợn đằng sau những bức ảnh sống ảo trăm nghìn like như thế này\\nTrong mỗi đợt di cư, những con cua này sẽ phải vượt qua một đoạn đường dài 8 km, bắt đầu từ các khu rừng ở đảo Christmas, Australia đến bờ biển Ấn Độ Dương, trong vòng 9 đến 18 ngày. Nhiều du khách thắc mắc tại sao loài vật bé nhỏ này lại có thể di chuyển xa như vậy? Đó là vì đến mùa sinh sản, cua tiết ra nhiều nội tiết tố hyperglycemic, giúp tăng lượng đường glucoza trong máu, đảm bảo cho việc cung cấp năng lượng trong thời gian dài.\\nĐến mùa sinh sản, cua tiết ra nhiều nội tiết tố hyperglycemic, giúp tăng lượng đường glucoza trong máu, đảm bảo cho việc cung cấp năng lượng trong thời gian dài.\\nĐược biết cua đỏ là loài giáp xác duy nhất có con đực cùng di cư với con cái, những con cua đực sẽ dẫn đầu làn sóng di cư đến tìm hang để ẩn nấp, sau đó là các con cua cái sẽ đến những hang này để giao phối với cua đực rồi bò ra biển để đẻ trứng.\\nCua đỏ là loài giáp xác duy nhất có con đực cùng di cư với con cái.\\nCác cuộc di cư thường niên của cua đỏ đã trở nên quen thuộc với người dân ở đây, nhưng lại là điều vô cùng lý thú và thu hút hàng nghìn khách du lịch tò mò ghé thăm.</td>\n",
       "      <td>tinvn.info</td>\n",
       "      <td>1</td>\n",
       "    </tr>\n",
       "    <tr>\n",
       "      <th>149</th>\n",
       "      <td>'Xã hội đen' Hải Phòng xây hàng trăm nhà trái phép trên đất quốc phòng\\nNhững ngôi nhà trái phép vẫn đang được xây dựng tại khu A mảnh đất 14,2 ha. Ảnh: Giang Chinh\\nNgày 17/10, thượng tướng Lê Chiêm, Thứ trưởng Quốc phòng ký biên bản bàn giao khu đất rộng 14,2 ha tại phường Thành Tô và Tràng Cát (quận Hải An) cho UBND TP Hải Phòng quản lý, sử dụng. Khu đất này trước đây do Tổng công ty 319 quản lý, nhưng nay không còn sử dụng vào mục đích quốc phòng.\\nNgay sau khi tiếp nhận, UBND TP Hải Phòng đã ban hành quyết định thu hồi khu đất, giao lại cho UBND quận Hải An thực hiện, đồng thời thành lập Ban chỉ đạo xử lý các vướng mắc.\\nTheo ông Đào Văn Học (đại diện Tổng công ty 319), khu đất trên được chia làm hai phần: khu A rộng 5 ha và khu B rộng 9,2 ha. Trước đây, Bộ Quốc phòng giao đất cho Sư đoàn 363. Đơn vị này sau đó cấu kết với bên ngoài san lấp khu A, chia lô bán nền, xây nhà trái phép khiến 5 bị can liên quan bị khởi tố.\\nĐến năm 2014, Tổng công ty 319 được giao tiếp quản. Tuy nhiên, tình trạng chia lô, bán nền và xây dựng trái phép không chấm dứt và có sự tham gia của nhiều giang hồ cộm cán đất Cảng. Thống kê sơ bộ cho thấy, có 212 ngôi nhà cao 1-5 tầng xây trái phép ở cả hai khu A và B.\\nNhững ngôi nhà ở khu B đã có người đến ở nhiều năm nay. Ảnh: Giang Chinh\\nChiều tối cùng ngày, Chủ tịch TP Hải Phòng Nguyễn Văn Tùng đã trực tiếp chủ trì cuộc họp công bố các quyết định của Bộ Quốc phòng tại trụ sở UBND phường Thành Tô. Cuộc họp có sự tham dự của hàng trăm người dân liên quan, với hàng trăm công an, bộ đội bảo vệ bên ngoài.\\nÔng Tùng nhấn mạnh tình trạng vi phạm trật tự xây dựng xảy ra \"đặc biệt nghiêm trọng, gây nhức nhối, bức xúc trong dư luận\". Nhận trách nhiệm một phần về mình, người đứng đầu thành phố cũng phê bình gay gắt lãnh đạo các sở, ngành và quận Hải An khi chậm trễ trong tham mưu, đề xuất hướng giải quyết vụ việc dẫn đến hàng trăm ngôi nhà trái phép tiếp tục mọc lên.\\nTrước mong muốn của người dân về việc có cơ chế cho họ \"hợp thức hóa\" giấy tờ nhà đất theo quy định pháp luật, ông Tùng cho rằng người dân phải nghiêm túc phối hợp với chính quyền bằng cách kê khai và đưa ra các giấy tờ chứng minh việc mua bán nhà đất với ai.\\nÔng Tùng cũng đề nghị người dân không xây dựng thêm các công trình sai phạm. \"Chắc chắn không có chuyện thành phố trích ngân sách để bồi thường khi thu hồi những ngôi nhà mua bán trái phép trên đất quốc phòng, đặc biệt là phần diện tích 9,2 ha\", ông nói.\\nChủ tịch UBND Hải Phòng khẳng định, từ 18/10 nếu tình trạng xây dựng trái phép tái diễn, thành phố sẽ kỷ luật người đứng đầu UBND quận Hải An và UBND phường Thành Tô.\\nCuối tháng 5/2018, cơ quan điều tra hình sự Bộ Quốc phòng đã khởi tố vụ án, khởi tố 5 bị can gồm: hai sĩ quan quân đội cao cấp, cựu chủ tịch UBND phường Thành Tô, một cán bộ Sở Tài nguyên Môi trường và một doanh nghiệp tư nhân. Họ bị cáo buộc Vi phạm các quy định về sử dụng đất đai; Vi phạm về quản lý đất đai; Lợi dụng chức vụ và quyền hạn trong khi thi hành công vụ.\\nVụ án đang trong quá trình điều tra thì đầu tháng 6/2018, nhiều giang hồ xâm nhập vào khu vực đất quốc phòng này chia lô, san nền bán và xây dựng nhà trái phép. \"Nhiều ngôi nhà người dân vừa mua xong lập tức bị côn đồ đưa máy xúc đến đập phá, xây công trình mới đè lên\", tài liệu điều tra nêu.\\nVụ án đang được điều tra mở rộng.</td>\n",
       "      <td>vnexpress.net</td>\n",
       "      <td>0</td>\n",
       "    </tr>\n",
       "    <tr>\n",
       "      <th>128</th>\n",
       "      <td>Dòng người xếp hàng chờ lấy vé mua online trận Việt Nam\\nVFF đã bán hết vé trận Việt Nam - Philippines qua đường online\\nNgày 30/11, tại trụ sở Liên đoàn bóng đá Việt Nam (VFF) trên đường Lê Quang Đạo, Bắc Từ Liêm (Hà Nội), đơn vị này bắt đầu trả vé cho khách hàng đã đặt vé online trận bán kết lượt về Việt Nam-Philipines.\\nNgười hâm mộ xếp hàng lấy vé đã mua qua mạng trận Việt Nam Philippines Hàng trăm người xếp hàng chờ lấy vé sau khi mua online. Video: Trần Huấn.\\nLúc 15h30, khoảng hơn 20 cảnh sát cơ động đứng chốt ở ngoài cổng VFF để đảm bảo an ninh. Rào chắn hình zích zắc dài gần 30 m được dựng lên để người hâm mộ đi vào theo hàng.\\nHàng trăm người đã mua vé online cầm chứng minh thư, thông tin đăng ký vé trên tay đứng kín vỉa hè đoạn trước trụ sở VFF. Khoảng 15 phút có một lượt người đi vào bên trong, mỗi lượt chỉ 10 người.\\n\"Cứ thế này chắc đến tối cũng chưa chắc lấy được vé\", anh Trần Tiến Tùng (Đông Anh, Hà Nội) sốt ruột nói. Anh Tùng mua 4 vé khán đài D, mỗi vé 200.000 đồng và đã đứng chờ từ 14h.\\nCảnh sát cơ động giữ trật tự ở khu vực trước cổng VFF. Ảnh: Tất Định\\nAnh Nguyễn Xuân Thọ (30 tuổi, Hà Nội) cho biết, ngày VFF mở bán vé online, anh phải vào \"canh\" từ sớm. \"Ở cơ quan tôi nhiều người mở máy tính để canh nhưng chỉ mình tôi mua được 4 vé mệnh giá 300.000 đồng\", anh nói.\\nÔng Trần Thanh Minh (58 tuổi, quê Nghệ An) nói, từ khi VFF mở bán vé online, ông liên tục ngồi mở website để mua vé, nhưng đến khoảng 22h ông mới đặt mua được. \"Bán vé online mà không hiển thị rõ vị trí, số ghế thì người dân vẫn nghi ngờ về số lượng vé bán ra. Tôi về hưu rồi nên mới có thời gian ngồi máy tính lâu như vậy chứ người khác thì chắc là không thể\", ông Minh chia sẻ.\\nTrong lúc dòng người xếp hàng ở lối vào trụ sở VFF, phía đường ra, hơn chục người buôn vé đứng chờ sẵn. \"Áo kẻ của tôi nhé!...áo nâu của chị\", những người này hô lên để tranh nhau \"suất mua\" mỗi khi có lượt người nhận vé từ phía trong đi ra. Theo quan sát, nhiều người bán lại vé với giá từ 1,5 triệu đến 4 triệu đồng mỗi cặp tùy khán đài và số ghế.\\nỞ lề đường Lê Quang Đạo cạnh trụ sở VFF, hễ có ôtô, xe máy nào đỗ lại, lập tức những người buôn vé lại ra mời mua vé. Giá vé được chào bán từ 3 triệu đến 3,5 triệu đồng mỗi cặp khán đài C, D; vé khán đài A, B được rao lên tới 5 triệu đến 6 triệu đồng mỗi cặp.\\nMua vé AFF Vé được bán lại ngay trước cửa sân Mỹ Đình. Video: Tất Định.\\nKhoảng 16h30, VFF đóng cổng và thông báo sẽ tiếp tục phát vé vào 9h sáng mai; lúc này vẫn còn khoảng hơn 50 người đứng xếp hàng bên ngoài.\\nTrước đó vào sáng 29/11, ông Lê Hoài Anh, Tổng thư ký VFF thông báo đã bán hết toàn bộ vé theo hình thức online. Trận bán kết lượt về giữa đội tuyển Việt Nam và Philippines (diễn ra ngày 6/12 tại SVĐ Mỹ Đình) mở bán 4 mệnh giá vé, gồm: 200.000 đồng, 300.000 đồng, 400.000 đồng và 500.000 đồng.\\nTheo VFF, người hâm mộ có thể mua vé online qua các website vebongdaonline.vn; vebongonline.com.vn; ticketonline.vff.org.vn; vebongda.vff.org.vn đến hạn chót là 12h00 ngày 29/11 hoặc đến khi hết vé.\\nSố lượng vé online bán ra trong trận bán kết lượt về AFF Cup 2018 dự kiến là 20.000 vé.\\nTất Định - Viết Tuân</td>\n",
       "      <td>vnexpress.net</td>\n",
       "      <td>0</td>\n",
       "    </tr>\n",
       "    <tr>\n",
       "      <th>96</th>\n",
       "      <td>Chỉ vài giây dừng chờ đèn đỏ, người đàn ông này đã khiến cả quốc gia khóc thét khi tìm thấy điểm rùng rợn lấp ló trong áo\\nNhiều người không dám ra khỏi nhà cũng chỉ vì sợ gặp phải những trường hợp như thế này đây.\\nRất nhiều cư dân mạng nước ngoài những ngày gần đây đang bị chấn động mạnh bởi một bức ảnh được chụp lại tại ngã tư. Thoạt đầu, ai cũng nghĩ đó là bức ảnh bình thường, không có gì nổi bật nhưng khi nhìn tới lần 2, ai nấy đều nổi da gà vì quá sợ.\\nTrời ơi, trong vạt áo của người đàn ông đi xe máy có thứ gì kìa?\\nNếu mắt cận chưa nhìn rõ thì chỉ cần zoom lên một chút là thấy ngay thôi…\\nĐó là gương mặt của một cậu bé đang lén nhìn mọi người qua lớp áo mưa. Thế nhưng, ai cũng sửng sốt vì phát hiện ra gương mặt này có chút gì đó quen thuộc. Nhìn kỹ hơn thì mới té ngửa, chẳng phải gương mặt ấy giống với cậu bé ma Toshio trong series phim kinh dị Ju-on của Nhật Bản hay sao?\\n10 thì 9 người gật đầu khi cho rằng gương mặt thò ra từ lớp áo rất giống với cậu bé ma\\nBức ảnh này đã gây ra một cuộc tranh cãi dữ dội trên mạng xã hội. Một số ý kiến cho rằng có thể người đàn ông này chở theo con nhỏ và để ngồi đằng trước, vì tò mò nên cậu bé mới ló mặt ra để rồi mang tới nỗi ám ảnh cho người đi đường.\\nTrong khi đó, những người khác lại khăng khăng đây chính là hiện thân của ma quỷ và chắc chắn người đàn ông này đã bị ma ám.\\nHiện tại, những tranh cãi trên vẫn đang bùng nổ trên mạng xã hội. Không ai biết được rằng ma quỷ có thật hay đây chỉ là sản phẩm của photoshop nhưng dù sao cũng làm nhiều người sởn da gà. Còn bây giờ, nếu đã ấm êm trên giường thì xin chúc bạn có một giấc ngủ thật ngon, mong là sẽ không ai gặp phải ác mộng.</td>\n",
       "      <td>tinvn.info</td>\n",
       "      <td>1</td>\n",
       "    </tr>\n",
       "    <tr>\n",
       "      <th>86</th>\n",
       "      <td>Thích dạng háng check-in cho thoáng, thiếu nữ khiến bạn bè đứng hình khi thấy thứ kinh dị lòi ra\\nDưới đây là những hình ảnh hot nhất được dân mạng chia sẻ trong ngày qua, mời các bạn cùng chúng tôi điểm lại nhé!\\nKhông biết vô tình hay cố ý mà cô nàng lại để “di vật” lồ lộ ở vùng nhạy cảm như thế, đúng là ai nấy cũng phải muối mặt\\nMuốn nhắc em gái cài cúc áo vào cho đỡ lạnh mà ngại quá chả biết mở lời như thế nào\\nAnh em có thấy đi xe số thích hơn xe ga không? Bánh xe số nhìn thôi đã biết chạy phê rồi\\nVợ chồng này chắc mới ở bển về nên nói chuyện dễ thương gì đâu á!\\nChỉ một cơn gió thoảng thôi em gái nhé, thế người ta mới bảo đóng thùng vào cho nó gọn gàng\\nTôi có sức mạnh có thể chống đỡ cả thế giới nhé\\nCác anh hùng xa lộ đừng vênh mặt lên nữa nhé\\nCòn bảo thích người yêu bụng bự ôm cho sướng nữa không các chị em?\\nCái ngày định mệnh gì thế này nhỉ? Ăn cũng không yên nữa\\nNày thì bạn thân nhé – cảm thấy phẫn nộ\\nSai một ly, đi một dặm, à đi luôn ấy chứ nhỉ?</td>\n",
       "      <td>tinvn.info</td>\n",
       "      <td>1</td>\n",
       "    </tr>\n",
       "  </tbody>\n",
       "</table>\n",
       "</div>"
      ],
      "text/plain": [
       "                                                                                                                                                                                                                                                                                                                                                                                                                                                                                                                                                                                                                                                                                                                                                                                                                                                                                                                                                                                                                                                                                                                                                                                                                                                                                                                                                                                                                                                                                                                                                                                                                                                                                                                                                                                                                                                                                                                                                                                                                                                                                                                                                                                                                                                                                                                                                                                                                                                                                                                                                                                                                                                                                                                                                                                                                                                                                                                                                                                                                                                                                                                                                                                                                                                                                                                                                                                                                                       text  \\\n",
       "46                                                                                                                                                                                                                                                                                                                    Cậu bé kinh hãi khi thấy chân lúc nhúc hàng triệu sinh vật bấu chặt, cúi xuống phát hiện sự thật bàng hoàng\\nKinh ngạc cảnh tượng hàng triệu sinh vật bò nhung nhúc bấu chặt lấy chân.\\nChristmas là một đảo nhỏ thuộc Úc, cách 2.600 km về Phía tây bắc thành phố Perth. Hòn đảo là quê hương của vô số các loài động – thực vật vô cùng phong phú và kỳ lạ. Nếu không chú ý, những du khách lần đầu tiên đến tham quan hòn đảo này thường gặp nhiều “phe” sởn gai ốc, khi ra vừa chỉ đứng im vài phút thôi, đã thấy dưới bàn chân mình rờn rợn, nhung nhúc vô cùng nhiều sinh vật kỳ lạ đang bò lên và bấu chặt lấy. Thậm chí, cả những con đường hay cả bờ biển nơi đây đều bị nhuộm một màu đỏ rực.\\nHàng trăm triệu con cua bò lên bấu chặt lấy chân cậu bé.\\nBờ biển nhuộm màu đỏ rực.\\nCác sinh vật lạ nhung nhúc bò trên mỏm đá.\\nSau quá trình tìm hiểu thông qua người dân địa phương, các du khách mới ngã ngửa khi biết rằng nguyên nhân của hiện tượng kỳ quái này chính là cuộc di cư thường năm của loài cua đỏ.\\nCuộc di cư đặc biệt này thường diễn ra với quy mô lớn.\\nVào mỗi mùa giao phối, loài cua đỏ đặc biệt này di cư với quy mô lớn, nó được ví như một cơn thủy triều đỏ khủng khiếp. Theo các nhà nghiên cứu, do điều kiện khí hậu mùa mưa giúp cho việc di chuyển thuận tiện và dễ dàng hơn nên khoảng thời gian di cư của loài cua đỏ này thường bắt đầu vào khoảng tháng 10 – 12.\\nVào mùa mưa, hàng triệu con cua đỏ này lại di cư ra biển để bắt đầu mùa sinh sản mới.\\nSố lượng đàn cua đỏ di chuyển trong mỗi lần di cư rất đông, nên chính quyền địa phương phải đặt các tấm biểu báo cấm đường dành cho các phương tiện và người đi bộ nhằm tránh làm tổn thương đến chúng.\\nChính quyền địa phương phải đặt các tấm biểu báo cấm đường dành cho các phương tiện và người đi bộ nhằm tránh làm tổn thương đến chúng.\\nXem thêm: Muốn hờn cả thế giới khi chứng kiến sự thật trắng trợn đằng sau những bức ảnh sống ảo trăm nghìn like như thế này\\nTrong mỗi đợt di cư, những con cua này sẽ phải vượt qua một đoạn đường dài 8 km, bắt đầu từ các khu rừng ở đảo Christmas, Australia đến bờ biển Ấn Độ Dương, trong vòng 9 đến 18 ngày. Nhiều du khách thắc mắc tại sao loài vật bé nhỏ này lại có thể di chuyển xa như vậy? Đó là vì đến mùa sinh sản, cua tiết ra nhiều nội tiết tố hyperglycemic, giúp tăng lượng đường glucoza trong máu, đảm bảo cho việc cung cấp năng lượng trong thời gian dài.\\nĐến mùa sinh sản, cua tiết ra nhiều nội tiết tố hyperglycemic, giúp tăng lượng đường glucoza trong máu, đảm bảo cho việc cung cấp năng lượng trong thời gian dài.\\nĐược biết cua đỏ là loài giáp xác duy nhất có con đực cùng di cư với con cái, những con cua đực sẽ dẫn đầu làn sóng di cư đến tìm hang để ẩn nấp, sau đó là các con cua cái sẽ đến những hang này để giao phối với cua đực rồi bò ra biển để đẻ trứng.\\nCua đỏ là loài giáp xác duy nhất có con đực cùng di cư với con cái.\\nCác cuộc di cư thường niên của cua đỏ đã trở nên quen thuộc với người dân ở đây, nhưng lại là điều vô cùng lý thú và thu hút hàng nghìn khách du lịch tò mò ghé thăm.   \n",
       "149  'Xã hội đen' Hải Phòng xây hàng trăm nhà trái phép trên đất quốc phòng\\nNhững ngôi nhà trái phép vẫn đang được xây dựng tại khu A mảnh đất 14,2 ha. Ảnh: Giang Chinh\\nNgày 17/10, thượng tướng Lê Chiêm, Thứ trưởng Quốc phòng ký biên bản bàn giao khu đất rộng 14,2 ha tại phường Thành Tô và Tràng Cát (quận Hải An) cho UBND TP Hải Phòng quản lý, sử dụng. Khu đất này trước đây do Tổng công ty 319 quản lý, nhưng nay không còn sử dụng vào mục đích quốc phòng.\\nNgay sau khi tiếp nhận, UBND TP Hải Phòng đã ban hành quyết định thu hồi khu đất, giao lại cho UBND quận Hải An thực hiện, đồng thời thành lập Ban chỉ đạo xử lý các vướng mắc.\\nTheo ông Đào Văn Học (đại diện Tổng công ty 319), khu đất trên được chia làm hai phần: khu A rộng 5 ha và khu B rộng 9,2 ha. Trước đây, Bộ Quốc phòng giao đất cho Sư đoàn 363. Đơn vị này sau đó cấu kết với bên ngoài san lấp khu A, chia lô bán nền, xây nhà trái phép khiến 5 bị can liên quan bị khởi tố.\\nĐến năm 2014, Tổng công ty 319 được giao tiếp quản. Tuy nhiên, tình trạng chia lô, bán nền và xây dựng trái phép không chấm dứt và có sự tham gia của nhiều giang hồ cộm cán đất Cảng. Thống kê sơ bộ cho thấy, có 212 ngôi nhà cao 1-5 tầng xây trái phép ở cả hai khu A và B.\\nNhững ngôi nhà ở khu B đã có người đến ở nhiều năm nay. Ảnh: Giang Chinh\\nChiều tối cùng ngày, Chủ tịch TP Hải Phòng Nguyễn Văn Tùng đã trực tiếp chủ trì cuộc họp công bố các quyết định của Bộ Quốc phòng tại trụ sở UBND phường Thành Tô. Cuộc họp có sự tham dự của hàng trăm người dân liên quan, với hàng trăm công an, bộ đội bảo vệ bên ngoài.\\nÔng Tùng nhấn mạnh tình trạng vi phạm trật tự xây dựng xảy ra \"đặc biệt nghiêm trọng, gây nhức nhối, bức xúc trong dư luận\". Nhận trách nhiệm một phần về mình, người đứng đầu thành phố cũng phê bình gay gắt lãnh đạo các sở, ngành và quận Hải An khi chậm trễ trong tham mưu, đề xuất hướng giải quyết vụ việc dẫn đến hàng trăm ngôi nhà trái phép tiếp tục mọc lên.\\nTrước mong muốn của người dân về việc có cơ chế cho họ \"hợp thức hóa\" giấy tờ nhà đất theo quy định pháp luật, ông Tùng cho rằng người dân phải nghiêm túc phối hợp với chính quyền bằng cách kê khai và đưa ra các giấy tờ chứng minh việc mua bán nhà đất với ai.\\nÔng Tùng cũng đề nghị người dân không xây dựng thêm các công trình sai phạm. \"Chắc chắn không có chuyện thành phố trích ngân sách để bồi thường khi thu hồi những ngôi nhà mua bán trái phép trên đất quốc phòng, đặc biệt là phần diện tích 9,2 ha\", ông nói.\\nChủ tịch UBND Hải Phòng khẳng định, từ 18/10 nếu tình trạng xây dựng trái phép tái diễn, thành phố sẽ kỷ luật người đứng đầu UBND quận Hải An và UBND phường Thành Tô.\\nCuối tháng 5/2018, cơ quan điều tra hình sự Bộ Quốc phòng đã khởi tố vụ án, khởi tố 5 bị can gồm: hai sĩ quan quân đội cao cấp, cựu chủ tịch UBND phường Thành Tô, một cán bộ Sở Tài nguyên Môi trường và một doanh nghiệp tư nhân. Họ bị cáo buộc Vi phạm các quy định về sử dụng đất đai; Vi phạm về quản lý đất đai; Lợi dụng chức vụ và quyền hạn trong khi thi hành công vụ.\\nVụ án đang trong quá trình điều tra thì đầu tháng 6/2018, nhiều giang hồ xâm nhập vào khu vực đất quốc phòng này chia lô, san nền bán và xây dựng nhà trái phép. \"Nhiều ngôi nhà người dân vừa mua xong lập tức bị côn đồ đưa máy xúc đến đập phá, xây công trình mới đè lên\", tài liệu điều tra nêu.\\nVụ án đang được điều tra mở rộng.   \n",
       "128                                                                                                                                                                                         Dòng người xếp hàng chờ lấy vé mua online trận Việt Nam\\nVFF đã bán hết vé trận Việt Nam - Philippines qua đường online\\nNgày 30/11, tại trụ sở Liên đoàn bóng đá Việt Nam (VFF) trên đường Lê Quang Đạo, Bắc Từ Liêm (Hà Nội), đơn vị này bắt đầu trả vé cho khách hàng đã đặt vé online trận bán kết lượt về Việt Nam-Philipines.\\nNgười hâm mộ xếp hàng lấy vé đã mua qua mạng trận Việt Nam Philippines Hàng trăm người xếp hàng chờ lấy vé sau khi mua online. Video: Trần Huấn.\\nLúc 15h30, khoảng hơn 20 cảnh sát cơ động đứng chốt ở ngoài cổng VFF để đảm bảo an ninh. Rào chắn hình zích zắc dài gần 30 m được dựng lên để người hâm mộ đi vào theo hàng.\\nHàng trăm người đã mua vé online cầm chứng minh thư, thông tin đăng ký vé trên tay đứng kín vỉa hè đoạn trước trụ sở VFF. Khoảng 15 phút có một lượt người đi vào bên trong, mỗi lượt chỉ 10 người.\\n\"Cứ thế này chắc đến tối cũng chưa chắc lấy được vé\", anh Trần Tiến Tùng (Đông Anh, Hà Nội) sốt ruột nói. Anh Tùng mua 4 vé khán đài D, mỗi vé 200.000 đồng và đã đứng chờ từ 14h.\\nCảnh sát cơ động giữ trật tự ở khu vực trước cổng VFF. Ảnh: Tất Định\\nAnh Nguyễn Xuân Thọ (30 tuổi, Hà Nội) cho biết, ngày VFF mở bán vé online, anh phải vào \"canh\" từ sớm. \"Ở cơ quan tôi nhiều người mở máy tính để canh nhưng chỉ mình tôi mua được 4 vé mệnh giá 300.000 đồng\", anh nói.\\nÔng Trần Thanh Minh (58 tuổi, quê Nghệ An) nói, từ khi VFF mở bán vé online, ông liên tục ngồi mở website để mua vé, nhưng đến khoảng 22h ông mới đặt mua được. \"Bán vé online mà không hiển thị rõ vị trí, số ghế thì người dân vẫn nghi ngờ về số lượng vé bán ra. Tôi về hưu rồi nên mới có thời gian ngồi máy tính lâu như vậy chứ người khác thì chắc là không thể\", ông Minh chia sẻ.\\nTrong lúc dòng người xếp hàng ở lối vào trụ sở VFF, phía đường ra, hơn chục người buôn vé đứng chờ sẵn. \"Áo kẻ của tôi nhé!...áo nâu của chị\", những người này hô lên để tranh nhau \"suất mua\" mỗi khi có lượt người nhận vé từ phía trong đi ra. Theo quan sát, nhiều người bán lại vé với giá từ 1,5 triệu đến 4 triệu đồng mỗi cặp tùy khán đài và số ghế.\\nỞ lề đường Lê Quang Đạo cạnh trụ sở VFF, hễ có ôtô, xe máy nào đỗ lại, lập tức những người buôn vé lại ra mời mua vé. Giá vé được chào bán từ 3 triệu đến 3,5 triệu đồng mỗi cặp khán đài C, D; vé khán đài A, B được rao lên tới 5 triệu đến 6 triệu đồng mỗi cặp.\\nMua vé AFF Vé được bán lại ngay trước cửa sân Mỹ Đình. Video: Tất Định.\\nKhoảng 16h30, VFF đóng cổng và thông báo sẽ tiếp tục phát vé vào 9h sáng mai; lúc này vẫn còn khoảng hơn 50 người đứng xếp hàng bên ngoài.\\nTrước đó vào sáng 29/11, ông Lê Hoài Anh, Tổng thư ký VFF thông báo đã bán hết toàn bộ vé theo hình thức online. Trận bán kết lượt về giữa đội tuyển Việt Nam và Philippines (diễn ra ngày 6/12 tại SVĐ Mỹ Đình) mở bán 4 mệnh giá vé, gồm: 200.000 đồng, 300.000 đồng, 400.000 đồng và 500.000 đồng.\\nTheo VFF, người hâm mộ có thể mua vé online qua các website vebongdaonline.vn; vebongonline.com.vn; ticketonline.vff.org.vn; vebongda.vff.org.vn đến hạn chót là 12h00 ngày 29/11 hoặc đến khi hết vé.\\nSố lượng vé online bán ra trong trận bán kết lượt về AFF Cup 2018 dự kiến là 20.000 vé.\\nTất Định - Viết Tuân   \n",
       "96                                                                                                                                                                                                                                                                                                                                                                                                                                                                                                                                                                                                                                                                                                                                                                                                                                                                                                                                                                                                                                                                                                                                                                                                                                                                                                                                                                                                                                                                                                                                                                                                                                                                                                                      Chỉ vài giây dừng chờ đèn đỏ, người đàn ông này đã khiến cả quốc gia khóc thét khi tìm thấy điểm rùng rợn lấp ló trong áo\\nNhiều người không dám ra khỏi nhà cũng chỉ vì sợ gặp phải những trường hợp như thế này đây.\\nRất nhiều cư dân mạng nước ngoài những ngày gần đây đang bị chấn động mạnh bởi một bức ảnh được chụp lại tại ngã tư. Thoạt đầu, ai cũng nghĩ đó là bức ảnh bình thường, không có gì nổi bật nhưng khi nhìn tới lần 2, ai nấy đều nổi da gà vì quá sợ.\\nTrời ơi, trong vạt áo của người đàn ông đi xe máy có thứ gì kìa?\\nNếu mắt cận chưa nhìn rõ thì chỉ cần zoom lên một chút là thấy ngay thôi…\\nĐó là gương mặt của một cậu bé đang lén nhìn mọi người qua lớp áo mưa. Thế nhưng, ai cũng sửng sốt vì phát hiện ra gương mặt này có chút gì đó quen thuộc. Nhìn kỹ hơn thì mới té ngửa, chẳng phải gương mặt ấy giống với cậu bé ma Toshio trong series phim kinh dị Ju-on của Nhật Bản hay sao?\\n10 thì 9 người gật đầu khi cho rằng gương mặt thò ra từ lớp áo rất giống với cậu bé ma\\nBức ảnh này đã gây ra một cuộc tranh cãi dữ dội trên mạng xã hội. Một số ý kiến cho rằng có thể người đàn ông này chở theo con nhỏ và để ngồi đằng trước, vì tò mò nên cậu bé mới ló mặt ra để rồi mang tới nỗi ám ảnh cho người đi đường.\\nTrong khi đó, những người khác lại khăng khăng đây chính là hiện thân của ma quỷ và chắc chắn người đàn ông này đã bị ma ám.\\nHiện tại, những tranh cãi trên vẫn đang bùng nổ trên mạng xã hội. Không ai biết được rằng ma quỷ có thật hay đây chỉ là sản phẩm của photoshop nhưng dù sao cũng làm nhiều người sởn da gà. Còn bây giờ, nếu đã ấm êm trên giường thì xin chúc bạn có một giấc ngủ thật ngon, mong là sẽ không ai gặp phải ác mộng.   \n",
       "86                                                                                                                                                                                                                                                                                                                                                                                                                                                                                                                                                                                                                                                                                                                                                                                                                                                                                                                                                                                                                                                                                                                                                                                                                                                                                                                                                                                                                                                                                                                                                                                                                                                                                                                                                                                                                                                                                                                                                                                                                                                                                                                                                                                                                                                                                                                                                                                                                        Thích dạng háng check-in cho thoáng, thiếu nữ khiến bạn bè đứng hình khi thấy thứ kinh dị lòi ra\\nDưới đây là những hình ảnh hot nhất được dân mạng chia sẻ trong ngày qua, mời các bạn cùng chúng tôi điểm lại nhé!\\nKhông biết vô tình hay cố ý mà cô nàng lại để “di vật” lồ lộ ở vùng nhạy cảm như thế, đúng là ai nấy cũng phải muối mặt\\nMuốn nhắc em gái cài cúc áo vào cho đỡ lạnh mà ngại quá chả biết mở lời như thế nào\\nAnh em có thấy đi xe số thích hơn xe ga không? Bánh xe số nhìn thôi đã biết chạy phê rồi\\nVợ chồng này chắc mới ở bển về nên nói chuyện dễ thương gì đâu á!\\nChỉ một cơn gió thoảng thôi em gái nhé, thế người ta mới bảo đóng thùng vào cho nó gọn gàng\\nTôi có sức mạnh có thể chống đỡ cả thế giới nhé\\nCác anh hùng xa lộ đừng vênh mặt lên nữa nhé\\nCòn bảo thích người yêu bụng bự ôm cho sướng nữa không các chị em?\\nCái ngày định mệnh gì thế này nhỉ? Ăn cũng không yên nữa\\nNày thì bạn thân nhé – cảm thấy phẫn nộ\\nSai một ly, đi một dặm, à đi luôn ấy chứ nhỉ?   \n",
       "\n",
       "            domain  label  \n",
       "46      tinvn.info      1  \n",
       "149  vnexpress.net      0  \n",
       "128  vnexpress.net      0  \n",
       "96      tinvn.info      1  \n",
       "86      tinvn.info      1  "
      ]
     },
     "execution_count": 5,
     "metadata": {},
     "output_type": "execute_result"
    }
   ],
   "source": [
    "data_df.sample(5)"
   ]
  },
  {
   "cell_type": "markdown",
   "id": "479312a7",
   "metadata": {},
   "source": [
    "### Xem thông tin"
   ]
  },
  {
   "cell_type": "code",
   "execution_count": 6,
   "id": "9e252490",
   "metadata": {},
   "outputs": [
    {
     "name": "stdout",
     "output_type": "stream",
     "text": [
      "<class 'pandas.core.frame.DataFrame'>\n",
      "RangeIndex: 223 entries, 0 to 222\n",
      "Data columns (total 3 columns):\n",
      " #   Column  Non-Null Count  Dtype \n",
      "---  ------  --------------  ----- \n",
      " 0   text    223 non-null    object\n",
      " 1   domain  223 non-null    object\n",
      " 2   label   223 non-null    int64 \n",
      "dtypes: int64(1), object(2)\n",
      "memory usage: 5.4+ KB\n"
     ]
    }
   ],
   "source": [
    "data_df.info()"
   ]
  },
  {
   "cell_type": "markdown",
   "id": "c28d8e6e",
   "metadata": {},
   "source": [
    "### Xem mô tả"
   ]
  },
  {
   "cell_type": "code",
   "execution_count": 7,
   "id": "57cca0c0",
   "metadata": {},
   "outputs": [
    {
     "data": {
      "text/html": [
       "<div>\n",
       "<style scoped>\n",
       "    .dataframe tbody tr th:only-of-type {\n",
       "        vertical-align: middle;\n",
       "    }\n",
       "\n",
       "    .dataframe tbody tr th {\n",
       "        vertical-align: top;\n",
       "    }\n",
       "\n",
       "    .dataframe thead th {\n",
       "        text-align: right;\n",
       "    }\n",
       "</style>\n",
       "<table border=\"1\" class=\"dataframe\">\n",
       "  <thead>\n",
       "    <tr style=\"text-align: right;\">\n",
       "      <th></th>\n",
       "      <th>label</th>\n",
       "    </tr>\n",
       "  </thead>\n",
       "  <tbody>\n",
       "    <tr>\n",
       "      <th>count</th>\n",
       "      <td>223.0</td>\n",
       "    </tr>\n",
       "    <tr>\n",
       "      <th>mean</th>\n",
       "      <td>0.4</td>\n",
       "    </tr>\n",
       "    <tr>\n",
       "      <th>std</th>\n",
       "      <td>0.5</td>\n",
       "    </tr>\n",
       "    <tr>\n",
       "      <th>min</th>\n",
       "      <td>0.0</td>\n",
       "    </tr>\n",
       "    <tr>\n",
       "      <th>25%</th>\n",
       "      <td>0.0</td>\n",
       "    </tr>\n",
       "    <tr>\n",
       "      <th>50%</th>\n",
       "      <td>0.0</td>\n",
       "    </tr>\n",
       "    <tr>\n",
       "      <th>75%</th>\n",
       "      <td>1.0</td>\n",
       "    </tr>\n",
       "    <tr>\n",
       "      <th>max</th>\n",
       "      <td>1.0</td>\n",
       "    </tr>\n",
       "  </tbody>\n",
       "</table>\n",
       "</div>"
      ],
      "text/plain": [
       "       label\n",
       "count  223.0\n",
       "mean     0.4\n",
       "std      0.5\n",
       "min      0.0\n",
       "25%      0.0\n",
       "50%      0.0\n",
       "75%      1.0\n",
       "max      1.0"
      ]
     },
     "execution_count": 7,
     "metadata": {},
     "output_type": "execute_result"
    }
   ],
   "source": [
    "data_df.describe().round(1)"
   ]
  },
  {
   "cell_type": "markdown",
   "id": "e0f3b068",
   "metadata": {},
   "source": [
    "### Dữ liệu gồm có bao nhiêu dòng và bao nhiêu cột?"
   ]
  },
  {
   "cell_type": "code",
   "execution_count": 8,
   "id": "d88d10b7",
   "metadata": {},
   "outputs": [
    {
     "name": "stdout",
     "output_type": "stream",
     "text": [
      "223\n",
      "3\n"
     ]
    }
   ],
   "source": [
    "num_rows=data_df.shape[0]\n",
    "num_cols=data_df.shape[1]\n",
    "print(num_rows)\n",
    "print(num_cols)"
   ]
  },
  {
   "cell_type": "markdown",
   "id": "2ba20736",
   "metadata": {},
   "source": [
    "Dữ liệu có 223 dòng và 3 cột"
   ]
  },
  {
   "cell_type": "markdown",
   "id": "ae231c66",
   "metadata": {},
   "source": [
    "### Mỗi dòng có ý nghĩa gì? Có vấn đề các dòng có ý nghĩa khác nhau không?"
   ]
  },
  {
   "cell_type": "markdown",
   "id": "3b39d319",
   "metadata": {},
   "source": [
    "Mỗi dòng là thông tin của 1 tin tức và đường dẫn của trang web chứa tin tức đó. Có vẻ tất cả các dòng đều có ý nghĩa giống nhau."
   ]
  },
  {
   "cell_type": "markdown",
   "id": "41d50e33",
   "metadata": {},
   "source": [
    "### Dữ liệu có các dòng bị lặp không?"
   ]
  },
  {
   "cell_type": "code",
   "execution_count": 9,
   "id": "33fd2dc4",
   "metadata": {},
   "outputs": [
    {
     "data": {
      "text/plain": [
       "0"
      ]
     },
     "execution_count": 9,
     "metadata": {},
     "output_type": "execute_result"
    }
   ],
   "source": [
    "dup=data_df.index.duplicated().sum()\n",
    "dup"
   ]
  },
  {
   "cell_type": "markdown",
   "id": "c20be76a",
   "metadata": {},
   "source": [
    "### Mỗi cột có ý nghĩa gì? "
   ]
  },
  {
   "cell_type": "markdown",
   "id": "95b631fc",
   "metadata": {},
   "source": [
    "- text: nội dung của tin tức\n",
    "- domain: đường dẫn đến trang web chứa tin tức\n",
    "- label: nhãn phân biệt tin giả hay tin thật"
   ]
  },
  {
   "cell_type": "markdown",
   "id": "58189858",
   "metadata": {},
   "source": [
    "### Dữ liệu có bị thiếu không?"
   ]
  },
  {
   "cell_type": "code",
   "execution_count": 10,
   "id": "8c12545a",
   "metadata": {},
   "outputs": [
    {
     "data": {
      "text/plain": [
       "0"
      ]
     },
     "execution_count": 10,
     "metadata": {},
     "output_type": "execute_result"
    }
   ],
   "source": [
    "data_df['text'].isnull().sum()"
   ]
  },
  {
   "cell_type": "code",
   "execution_count": 11,
   "id": "fbe17c1a",
   "metadata": {},
   "outputs": [
    {
     "data": {
      "text/plain": [
       "0"
      ]
     },
     "execution_count": 11,
     "metadata": {},
     "output_type": "execute_result"
    }
   ],
   "source": [
    "data_df['domain'].isnull().sum()"
   ]
  },
  {
   "cell_type": "code",
   "execution_count": 12,
   "id": "e6818f3e",
   "metadata": {},
   "outputs": [
    {
     "data": {
      "text/plain": [
       "0"
      ]
     },
     "execution_count": 12,
     "metadata": {},
     "output_type": "execute_result"
    }
   ],
   "source": [
    "data_df['label'].isnull().sum()"
   ]
  },
  {
   "cell_type": "markdown",
   "id": "a28f68c7",
   "metadata": {},
   "source": [
    "Vậy là không có cột nào bị thiếu dữ liệu cả."
   ]
  },
  {
   "cell_type": "markdown",
   "id": "54df01f1",
   "metadata": {},
   "source": [
    "### Mỗi cột hiện đang có kiểu dữ liệu gì? Có cột nào có kiểu dữ liệu chưa phù hợp để có thể xử lý tiếp không?"
   ]
  },
  {
   "cell_type": "code",
   "execution_count": 13,
   "id": "37260303",
   "metadata": {},
   "outputs": [
    {
     "data": {
      "text/plain": [
       "text      object\n",
       "domain    object\n",
       "label      int64\n",
       "dtype: object"
      ]
     },
     "execution_count": 13,
     "metadata": {},
     "output_type": "execute_result"
    }
   ],
   "source": [
    "data_df.dtypes"
   ]
  },
  {
   "cell_type": "markdown",
   "id": "96146300",
   "metadata": {},
   "source": [
    "#### Cột có dtype là object nghĩa là sao?"
   ]
  },
  {
   "cell_type": "markdown",
   "id": "d6c134ae",
   "metadata": {},
   "source": [
    "- Trong Pandas, kiểu dữ liệu object thường ám chỉ chuỗi, nhưng thật ra kiểu dữ liệu object có thể chứa một đối tượng bất kỳ trong Python (vì thật ra ở bên dưới kiểu dữ liệu object chứa địa chỉ). \n",
    "- Nếu một cột trong dataframe có dtype là object thì có thể các phần tử trong cột này sẽ có kiểu dữ liệu khác nhau \n",
    "- Để biết được kiểu dữ liệu thật sự của các phần tử trong cột này thì ta phải truy xuất vào từng phần tử. Ta muốn xem thử trong nội bộ mỗi cột này có các kiểu dữ liệu nào."
   ]
  },
  {
   "cell_type": "code",
   "execution_count": 14,
   "id": "992ae7dc",
   "metadata": {},
   "outputs": [],
   "source": [
    "def open_object_dtype(s):\n",
    "    dtypes = set()\n",
    "    s=s.apply(type)\n",
    "    dtypes.update(s.unique().tolist())\n",
    "    return dtypes"
   ]
  },
  {
   "cell_type": "code",
   "execution_count": 15,
   "id": "8e63e169",
   "metadata": {},
   "outputs": [
    {
     "data": {
      "text/plain": [
       "{str}"
      ]
     },
     "execution_count": 15,
     "metadata": {},
     "output_type": "execute_result"
    }
   ],
   "source": [
    "open_object_dtype(data_df['text'])"
   ]
  },
  {
   "cell_type": "code",
   "execution_count": 16,
   "id": "d2da930d",
   "metadata": {},
   "outputs": [
    {
     "data": {
      "text/plain": [
       "{str}"
      ]
     },
     "execution_count": 16,
     "metadata": {},
     "output_type": "execute_result"
    }
   ],
   "source": [
    "open_object_dtype(data_df['domain'])"
   ]
  },
  {
   "cell_type": "code",
   "execution_count": 17,
   "id": "9f610d91",
   "metadata": {},
   "outputs": [
    {
     "data": {
      "text/plain": [
       "{int}"
      ]
     },
     "execution_count": 17,
     "metadata": {},
     "output_type": "execute_result"
    }
   ],
   "source": [
    "open_object_dtype(data_df['label'])"
   ]
  },
  {
   "cell_type": "markdown",
   "id": "afab0f26",
   "metadata": {},
   "source": [
    "Nhìn chung kiểu dữ liệu của các cột có vẻ đúng, không cần phải chỉnh sửa gì thêm."
   ]
  },
  {
   "cell_type": "markdown",
   "id": "bb7bbf28",
   "metadata": {},
   "source": [
    "### Kiểm tra phân bố các class có chênh lệch không?"
   ]
  },
  {
   "cell_type": "code",
   "execution_count": 18,
   "id": "287cf849",
   "metadata": {},
   "outputs": [
    {
     "data": {
      "text/plain": [
       "0    55.156951\n",
       "1    44.843049\n",
       "Name: label, dtype: float64"
      ]
     },
     "execution_count": 18,
     "metadata": {},
     "output_type": "execute_result"
    },
    {
     "data": {
      "image/png": "[encoded data removed]",
      "text/plain": [
       "<Figure size 432x288 with 1 Axes>"
      ]
     },
     "metadata": {
      "needs_background": "light"
     },
     "output_type": "display_data"
    }
   ],
   "source": [
    "data_df.label.value_counts(normalize=True).plot(kind=\"bar\", \n",
    "                                                color=[\"red\", \"blue\"])\n",
    "data_df['label'].value_counts(normalize=True) * 100"
   ]
  },
  {
   "cell_type": "markdown",
   "id": "10dcb444",
   "metadata": {},
   "source": [
    " Tỉ lệ giữa các lớp cũng khá cân bằng, không chênh lệch gì lắm."
   ]
  },
  {
   "cell_type": "markdown",
   "id": "8a0b2f38",
   "metadata": {},
   "source": [
    "### Các thông tin thống kê"
   ]
  },
  {
   "cell_type": "markdown",
   "id": "e8208411",
   "metadata": {},
   "source": [
    "#### Chiều dài trung bình mỗi record là bao nhiêu?"
   ]
  },
  {
   "cell_type": "code",
   "execution_count": 19,
   "id": "6ed6caf4",
   "metadata": {},
   "outputs": [
    {
     "data": {
      "text/plain": [
       "2539.7713004484303"
      ]
     },
     "execution_count": 19,
     "metadata": {},
     "output_type": "execute_result"
    }
   ],
   "source": [
    "len_sum=0\n",
    "for i in data_df['text']:\n",
    "    len_sum+=len(i)\n",
    "len_avg=len_sum/data_df['text'].count()\n",
    "len_avg"
   ]
  },
  {
   "cell_type": "markdown",
   "id": "19195ed1",
   "metadata": {},
   "source": [
    "Chiều dài trung bình của mỗi record là 2548 ký tự."
   ]
  },
  {
   "cell_type": "markdown",
   "id": "25f204bb",
   "metadata": {},
   "source": [
    "### Record dài nhất là bao nhiêu?"
   ]
  },
  {
   "cell_type": "code",
   "execution_count": 20,
   "id": "003a0c6e",
   "metadata": {},
   "outputs": [
    {
     "data": {
      "text/plain": [
       "10019"
      ]
     },
     "execution_count": 20,
     "metadata": {},
     "output_type": "execute_result"
    }
   ],
   "source": [
    "max_len=0\n",
    "for i in data_df['text']:\n",
    "    if len(i)>max_len:\n",
    "        max_len=len(i)\n",
    "max_len"
   ]
  },
  {
   "cell_type": "markdown",
   "id": "7f540c12",
   "metadata": {},
   "source": [
    "Record dài nhất chứa 10084 ký tự."
   ]
  },
  {
   "cell_type": "markdown",
   "id": "e264a132",
   "metadata": {},
   "source": [
    "### Record ngắn nhất là bao nhiêu?"
   ]
  },
  {
   "cell_type": "code",
   "execution_count": 21,
   "id": "f0235564",
   "metadata": {},
   "outputs": [
    {
     "data": {
      "text/plain": [
       "309"
      ]
     },
     "execution_count": 21,
     "metadata": {},
     "output_type": "execute_result"
    }
   ],
   "source": [
    "min_len=len(data_df['text'][0])\n",
    "for i in data_df['text']:\n",
    "    if len(i)<min_len:\n",
    "        min_len=len(i)\n",
    "min_len"
   ]
  },
  {
   "cell_type": "markdown",
   "id": "2e611d42",
   "metadata": {},
   "source": [
    "Record ngắn nhất chứa 311 ký tự."
   ]
  },
  {
   "cell_type": "markdown",
   "id": "37d30cfa",
   "metadata": {},
   "source": [
    "### Tin tức được thu thập từ trang web nào nhiều nhất?"
   ]
  },
  {
   "cell_type": "code",
   "execution_count": 22,
   "id": "1540e99b",
   "metadata": {},
   "outputs": [
    {
     "data": {
      "text/plain": [
       "vnexpress.net              73\n",
       "tinvn.info                 68\n",
       "dantri.com.vn              14\n",
       "thethao.tuoitre.vn         10\n",
       "news.zing.vn                6\n",
       "thoibao.today               6\n",
       "tuoitre.vn                  5\n",
       "tintucqpvn.net              5\n",
       "thanhnien.vn                5\n",
       "phapluat.news               3\n",
       "kinhdoanh.vnexpress.net     3\n",
       "doisong.vnexpress.net       2\n",
       "giadinhtiepthi.com          2\n",
       "thoibao.de                  2\n",
       "giaitri.vnexpress.net       2\n",
       "thegioitre.vn               2\n",
       "www.ipick.vn                2\n",
       "baonuocmy.com               1\n",
       "suckhoe.vnexpress.net       1\n",
       "haiduong.tintuc.vn          1\n",
       "sorry.vn                    1\n",
       "dulich.vnexpress.net        1\n",
       "www.gioitreviet.net         1\n",
       "sohoa.vnexpress.net         1\n",
       "baoangiang.com.vn           1\n",
       "autoxe.net                  1\n",
       "binhluan.biz                1\n",
       "laodong.vn                  1\n",
       "www.vietgiaitri.com/        1\n",
       "https://news.zing.vn        1\n",
       "Name: domain, dtype: int64"
      ]
     },
     "execution_count": 22,
     "metadata": {},
     "output_type": "execute_result"
    }
   ],
   "source": [
    "data_df['domain'].value_counts()"
   ]
  },
  {
   "cell_type": "markdown",
   "id": "4442ec51",
   "metadata": {},
   "source": [
    "- Hai trang web được thu thập tin tức nhiều nhất là: vnexpress.net và tinvn.info.\n",
    "- Những tin tức còn lại được thu thập rải rác ở nhiều trang web khác nhau"
   ]
  },
  {
   "cell_type": "markdown",
   "id": "114e7392",
   "metadata": {},
   "source": [
    "## Tiền xử lí văn bản tiếng việt"
   ]
  },
  {
   "cell_type": "markdown",
   "id": "gPnAyk4krfMk",
   "metadata": {
    "id": "gPnAyk4krfMk"
   },
   "source": [
    "### Loại bỏ các đường link và các dấu câu,  lowercase "
   ]
  },
  {
   "cell_type": "code",
   "execution_count": 23,
   "id": "n62A_7RBrW8H",
   "metadata": {
    "id": "n62A_7RBrW8H"
   },
   "outputs": [],
   "source": [
    "def wordopt(text):\n",
    "    text = text.lower()\n",
    "    text = re.sub('https?:\\/\\/.*[\\r\\n]*', ' ', text)\n",
    "    text = re.sub('[^\\w\\s]',' ',text) \n",
    "    text = re.sub('\\n', ' ', text)\n",
    "    return text"
   ]
  },
  {
   "cell_type": "code",
   "execution_count": 24,
   "id": "f8a1d9d3",
   "metadata": {
    "id": "f8a1d9d3"
   },
   "outputs": [],
   "source": [
    "data_df[\"text\"]=data_df[\"text\"].apply(wordopt)"
   ]
  },
  {
   "cell_type": "code",
   "execution_count": 25,
   "id": "mf3yquZSuQRX",
   "metadata": {
    "colab": {
     "base_uri": "https://localhost:8080/",
     "height": 1000
    },
    "id": "mf3yquZSuQRX",
    "outputId": "9dafa3fe-45cb-4fa4-aba3-01e47a1c1fd9"
   },
   "outputs": [
    {
     "data": {
      "text/html": [
       "<div>\n",
       "<style scoped>\n",
       "    .dataframe tbody tr th:only-of-type {\n",
       "        vertical-align: middle;\n",
       "    }\n",
       "\n",
       "    .dataframe tbody tr th {\n",
       "        vertical-align: top;\n",
       "    }\n",
       "\n",
       "    .dataframe thead th {\n",
       "        text-align: right;\n",
       "    }\n",
       "</style>\n",
       "<table border=\"1\" class=\"dataframe\">\n",
       "  <thead>\n",
       "    <tr style=\"text-align: right;\">\n",
       "      <th></th>\n",
       "      <th>text</th>\n",
       "      <th>domain</th>\n",
       "      <th>label</th>\n",
       "    </tr>\n",
       "  </thead>\n",
       "  <tbody>\n",
       "    <tr>\n",
       "      <th>0</th>\n",
       "      <td>thủ tướng abe cúi đầu xin lỗi vì hành động phi thể thao của tuyển nhật theo sankei sports  sáng nay thủ tướng nhật bản shinzo abe công khai gửi lời xin lỗi tới nhật hoàng và toàn bộ người dân vì tinh thần thi đấu phi thể thao của đội tuyển nhật tại world cup 2018   tối qua  sau lượt trận cuối vòng bảng world cup 2018  nhật bản có cùng chỉ số phụ như senegal  đội bị loại sau khi thua colombia  nhưng nhật bản vào vòng sau nhờ chỉ số fair play vì nhận ít thẻ phạt hơn  thủ tướng nhật bản shinzo abe cúi đầu xin lỗi    với tinh thần của những võ sĩ đạo samurai  nhưng đội tuyển nhật bản đã có những hành động thiếu tinh thần thượng võ trong thi đấu tại world cup  để lại nhiều chỉ trích và bất bình cho toàn dân  làm mất hình ảnh kiên cường của người dân nhật bản trên đấu trường quốc tế  là người đứng đầu  tôi xin thành thật nhận trách nhiệm và gửi lời xin lỗi sâu sắc tới nhân dân    ông abe cúi đầu nhận trách nhiệm về mình  người nhật bản nổi tiếng về tinh thần  trách nhiệm và chất võ sĩ đạo  đó là lý do đội tuyển áo xanh được mệnh danh  samurai xanh   tuy nhiên  nhật bản sau đó nhận chỉ trích dữ dội của người hâm mộ bóng đá vì lối chơi bóng tiêu cực  cố tình câu giờ để dành tấm vé đi tiếp   cụ thể  những phút cuối trận cuối vòng bảng gặp ba lan  do biết ở trận cùng giờ  colombia cũng đang thắng senegal với tỷ số 1 0 nên dù có đang bị dẫn trước với tỉ số tương tự  các cầu thủ nhật bản cũng không hề muốn gỡ hòa  các cầu thủ nhật vui vẻ sau trận thua ba lan 0 1  có vé vào vòng 16 đội   tại world cup 2018  fifa sẽ tính điểm fair play  theo quy định 1 thẻ vàng  1 điểm  2 thẻ vàng thành thẻ đỏ  3 điểm  thẻ đỏ trực tiếp  4 điểm  nhật có 4 thẻ vàng còn senegal có đến 6   chính vì sợ lãnh thêm thẻ vàng nên nhật đã giết chết trận đấu trong những phút cuối  họ liên tục chuyền bóng qua lại ở phần sân nhà  thậm chí trong khoảng 5 phút cuối  cầu thủ nhật bản còn không đưa bóng sang phần sân đối phương  bất chấp sự la ó  huýt sáo của các cđv trên sân  điều này khiến thầy trò hlv akira nishino bị dư luận chỉ trích   với kết quả trên  nhật bản và colombia là hai đội đi tiếp của bảng h  ở vòng loại trực tiếp  nhật bản sẽ phải đối đầu với đối thủ cực mạnh là đt bỉ  trong khi đó  đội cùng đi tiếp với nhật là colombia sẽ gặp đt anh</td>\n",
       "      <td>binhluan.biz</td>\n",
       "      <td>1</td>\n",
       "    </tr>\n",
       "    <tr>\n",
       "      <th>1</th>\n",
       "      <td>thủ tướng nhật cúi đầu xin lỗi vì tinh thần phi thể thao của đội bóng sáng 19 6  thủ tướng nhật bản shinzo abe công khai gửi lời xin lỗi tới nhật hoàng và toàn bộ người dân vì tinh thần thi đấu phi thể thao của đội tuyển nhật tại world cup 2018   với tinh thần của những võ sĩ đạo samurai  nhưng đội tuyển nhật bản đã có những hành động thiếu tinh thần thượng võ trong thi đấu tại world cup  để lại nhiều chỉ trích và bất bình cho toàn dân  làm mất hình ảnh kiên cường của người dân nhật bản trên đấu trường quốc tế  là người đứng đầu  tôi xin thành thật nhận trách nhiệm và gửi lời xin lỗi sâu sắc tới nhân dân   ông abe cúi đầu nhận trách nhiệm về mình  tôi cảm phục hành động này của thủ tướng nhật  ông ấy ý thức rất cao về hình ảnh  danh dự quốc gia  nước nhật được thế giới tôn trọng  kính nể không phải vì nước này là cường quốc kinh tế mà chính là cường quốc về lòng tự trọng</td>\n",
       "      <td>www.ipick.vn</td>\n",
       "      <td>1</td>\n",
       "    </tr>\n",
       "    <tr>\n",
       "      <th>2</th>\n",
       "      <td>choáng  cơ trưởng đeo khăn quàng quẩy banh nóc trên sân khấu trường    xót xa hình ảnh thầy trò lội bùn băng rừng đến trường ở nghệ an sau lũ  nhiều học sinh vùng cao và giáo viên ở nghệ an phải đối mặt với thiếu thốn vì giao thông bị chia cắt  cơ sở vật chất bị lũ cuốn trôi  dưới đây là một số hình ảnh học sinh và giáo viên ở nghệ an lội bùn băng rừng đến trường  xã biên giới mường típ  mường ải  huyện miền núi kỳ sơn  nghệ an là một trong những nơi đã bị lũ dữ ập đến  nhiều đoạn đường  bị hàng ngàn khối đất đá sạt lở tràn lấp khiến nơi đây bị cô lập  nhiều em học sinh phải lội bùn  băng rừng để đến trường trong hoàn cảnh khó khăn  thầy nguyễn công danh  hiệu trưởng trường phổ thông dân tộc bán trú thcs nập típ  huyện kỳ sơn  cho biết  đến thời điểm hiện tại  các giáo viên của trường mới chỉ vận động được 184 387 học sinh thcs đến trường học và 180 197 học sinh ở bậc tiểu học đến trường học trở lại  để đến trường với đoạn đường chưa đến 2km  nhiều em học sinh nơi đây phải trầy trựợt suốt hơn 2 giờ đồng hồ  các học sinh và giáo viên ở những nơi lũ đi qua  rất cần được sự giúp đỡ để vượt qua khó khăn này  nguồn</td>\n",
       "      <td>tintucqpvn.net</td>\n",
       "      <td>1</td>\n",
       "    </tr>\n",
       "    <tr>\n",
       "      <th>3</th>\n",
       "      <td>chưa bao giờ nhạc kpop lại dễ hát đến thế    giáo sư nguyễn lân dũng   con tôi thành đạt nhờ cách đánh vần  ô vuông tam giác  gs nguyễn lân dũng khẳng định  con ông  pgs ts nguyễn lân hiếu thành công nhờ phương pháp học tiếng việt của gs hồ ngọc đại  mấy ngày nay cộng đồng mạng sục sôi khi chia sẻ thông tin có phụ huynh  nổi điên  vì con chỉ đọc câu thơ lục bát theo cách đánh vần  ô vuông  tam giác  mà không nhận diện được mặt chữ  chia sẻ về câu chuyện này  gs  nguyễn lân dũng   nguyên đại biểu quốc hội là cha của pgs ts bác sĩ nguyễn lân hiếu  thế hệ học sinh khóa đầu tiên của trường thực nghiệm và cũng là đại biểu quốc hội đương nhiệm  khẳng định   cách đánh vần là cả một vấn đề khoa học  nhiều phụ huynh không hiểu biết đầy đủ và đang nói không đúng về phương pháp này   theo gs nguyễn lân dũng  phương pháp học tiếng việt của giáo sư hồ ngọc đại rất khoa học  hợp lý  đem lại nhiều lợi ích cho học sinh  bằng chứng là đã có khoảng 800 000 người học  thống kê chưa đầy đủ  theo phương pháp này và nhiều người rất thành công  con trai tôi là pgs  nguyễn lân hiếu và bạn học của con tôi là gs ngô bảo châu là những thế hệ học sinh đầu tiên học theo phương pháp này  thời kỳ mà lân hiếu đi học tiểu học tại trường  về nhà gia đình không phải dạy dỗ thêm gì mà con có thể đọc rất hay  rất đúng  học rất khoa học  đạt thành tích học tập cao   nói thêm về phương pháp học đánh vần tiếng việt theo hình thức  ô vuông tam giác  của giáo sư hồ ngọc đại  giáo sư nguyễn lân dũng chỉ rõ  phương pháp học tiếng việt của trường thực nghiệm có sự lô gíc hợp lý về mặt sư phạm và tâm lý con người và nó có sự khác biệt  cách đọc chữ cách đọc chữ  ô vuông  tam giác  rất khoa học nhưng lại làm nhiều phụ huynh hoang mang vì hiểu chưa đúng học sinh không học đánh vần từng từ mà học cách đọc âm trước  rồi đến chữ  rồi mới ghép vần  vậy nên cách tiếp cận này trở nên lạ lùng với những ai học chữ bằng đánh vần đầu tiên  mỗi chữ cái đều có tên gọi và có sự khác biệt giữa âm và chữ  ví dụ chữ c  k  q có tên gọi khác nhau nhưng âm của nó phát ra khi ghép vào từ thì vẫn là cờ   thời kỳ nguyễn lân hiếu đi học đã học như vậy và không gặp phải bất kỳ khó khăn gì trong quá trình học tập  gia đình không phải giúp đỡ gì  đặc biệt  con đi học với tâm trạng rất vui vẻ  hạnh phúc  do vậy có thể dễ dàng đạt được nhiều thành tích cao hơn  đặc biệt  phương pháp học kiểu của thầy đại giúp học sinh dễ hiểu  dễ nhớ  tư duy logic  tìm thấy sự vui thích trong học tập để  mỗi ngày đến trường là một niềm vui   đúng như khẩu hiệu của nhà trường đề ra bấy giờ   và hơn hết  có thể tự tin nói học sinh học ở trường thực nghiệm học theo phương pháp của giáo sư hồ ngọc đại đã rất thành công  gs  ngô bảo châu  pgs nguyễn lân hiếu chính là những tấm gương điển hình gặt hái được nhiều thành công từ phương pháp học của gs đại  sự thành công của các học sinh cũng là lý do mà có những thời điểm các bậc phụ huynh ở hà nội chen nhau đăng ký cho con vào học ở trường thực nghiệm  chen chân xếp hàng chờ nộp đơn vào trường từ đầu cấp đến mức xô đổ cửa cổng trường như cách đây vài năm từng xảy ra     gs dũng chia sẻ</td>\n",
       "      <td>tintucqpvn.net</td>\n",
       "      <td>1</td>\n",
       "    </tr>\n",
       "    <tr>\n",
       "      <th>4</th>\n",
       "      <td>đại học hutech sẽ áp dụng cải cách  tiếq việt  vào năm học 2018  mới đây  ông phạm ngọc thanh  phó giám đốc sở gd   đt tp  hồ chí minh chuyên trách về hệ giáo dục đại học tại thành phố đã lên tiếng về vấn đề cải cách tiếng tiếng việt của pgs ts bùi hiền  ông cho biết tp hcm đặc biệt quan tâm đến đề xuất của pgs và rất sẵn lòng thí điểm vào giảng dạy tại các trường đại học trên địa bàn tp hcm  ông phạm ngọc thanh  phó giám đốc sở gdđt tp hcm  phó giám đốc sở gdđt tp hcm phạm ngọc thanh chia sẻ rằng tp hcm là thành phố phát triển với số lượng người nước ngoài cư trú  làm việc và học tập nhiều nhất cả nước  rất nhiều người trong số đó mong muốn được học tiếng việt để giúp ích cho việc sinh sống và làm việc tại việt nam một cách thuận tiện hơn  tuy nhiên  với cấu trúc ngữ pháp cũng như cách phát âm phức tạp của bộ chữ hiện tại thì khá khó khăn để người nước ngoài có thể học tập  sau khi xem xét và tìm hiểu toàn bộ nghiên cứu và đề xuất cải tiến bảng chữ cái tiếng việt của pgs ts bùi hiền  ông phạm ngọc thanh cho rằng đây là một nghiên cứu cực kỳ có giá trị trong việc thay đổi hầu hết những rắc rối mà bộ chữ hiện tại đang gặp phải như trùng âm  trùng nghĩa  nếu có thể áp dụng bộ chữ mới của pgs ts bùi hiền thì việc phổ cập tiếng việt đến mọi người sẽ dễ dàng hơn rất nhiều  pgs ts  bùi hiền và đề xuất cải tiến bảng chữ cái tiếng việt gây tranh cãi  do đó ông phạm ngọc thanh đã đề nghị sở gdđt tp hcm cho phép triển khai đưa nghiên cứu cải tiến bảng chữ cái của pgs ts bùi hiền áp dụng thí điểm giảng dạy ở các trường đại học trên địa bàn tp hcm  đề xuất cải tiến chữ viết của pgs bùi hiền ông phạm ngọc thanh cũng cho biết thêm  ngoài đảm đương chức vụ phó giám đốc sở gdđt tp hcm  ông còn là cổ đông lớn có quyền quyết định về chuyên môn tại đại học hutech  nên trước mắt  ông thanh đã cho các giảng viên chuyên môn của hutech tập trung nghiên cứu về đề xuất này  để có thể triển khai ngay vào giảng dạy tại đh hutech trong năm 2018  tâm thư của sĩ quan qđnd việt nam gửi pgs  ts bùi hiền nhận mưa lời khen từ dân mạng mấy ngày gần đây  đề xuất cải tiến tiếng việt của pgs ts bùi hiền bị cư dân mạng  ném đá  dữ dội  mới đây  một sĩ quan quân đội nhân dân  qđnd  việt nam đã viết tâm thư gửi vị pgs ts này để bày tỏ quan điểm về đề xuất cải tiến tiếng việt của ông khiến cộng đồng mạng vô cùng chú ý  chỉ sau vài giờ đăng tải  bức tâm thư của người sĩ quan này đã nhận được sự hưởng ứng vô cùng nhiệt tình của cư dân mạng  khác với những phản ứng gay gắt của dư luận nhiều ngày qua  người sĩ quan này tỏ ra rất tôn trọng công trình nghiên cứu của pgs ts bùi hiền  trước khi viết tâm thư  anh cũng đã thử đi ngược lại dư luận bởi những phát minh vĩ đại trước đây đều bị người ta xem là điên rồ   thưa phó giáo sư   tiến sĩ bùi hiền  đầu tiên  cháu cảm ơn tâm huyết 40 năm nghiên cứu ngôn ngữ tiếng việt của phó giáo sư  tiến sĩ  thưa pgs ts bùi hiền  cháu không phải là giới nghiên cứu  cháu chỉ là anh lính canh trời trong qđnd việt nam  nhưng thú thật với pgs ts bùi hiền  mấy hôm nay cháu và mọi người bất an quá  thậm chí rất bức xúc  rất giận pgs ts  pgs ts bùi hiền có biết không  đôi lúc  cháu cũng đã nghĩ ngược lại suy nghĩ của quần chúng xem như thế nào  nghĩa là cháu liên hệ với các phát minh trên thế giới  trước kia người ta bảo rằng đấy là điên rồ  nhưng sau đấy lại là công trình vĩ đại được ứng dụng cho nhân loại   bức tâm thư vị sĩ quan quân đội nhân dân việt nam gửi pgs ts bùi hiền   ảnh chụp màn hình tuy nhiên  không phải bất cứ công trình nào nghiên cứu nào đi ngược lại với đám đông cũng sẽ trở thành công trình vĩ đại  sở dĩ những phát minh trong quá khứ được công nhận là bởi nó không ảnh hưởng đến tình cảm  tư tưởng của mọi người  trong khi đó  bảng chữ cái tiếng việt mà chúng ta sử dụng được xây dựng bởi mồ hôi  nước mắt thậm chí là xương máu của biết bao chiến sĩ khi cố gắng thực hiện công tác xóa mù chữ cho dân ta trong thời chiến  anh viết   pgs ts có biết rằng trước đấy  thực dân pháp đã thực hiện chính sách ngu dân  toàn dân không biết chữ để buộc ta phải chui háng của chúng  phục dịch pháp  chúng làm cho nhân dân ta bĩ cực  không dám nghĩ đến phẩm hạnh  phẩm giá dân tộc mình  thưa  may phúc cho dân tộc ta có bác hồ  có đảng cộng sản lãnh đạo phong trào cách mạng  khai sinh ra nước vndcch  việt nam dân chủ cộng hòa  nay là chxhcn vn  cộng hòa xã hội chủ nghĩa việt nam   cũng trong năm 1945 bác hồ của chúng ta đã ra lệnh phải tiêu diệt giặc đói  giặc dốt  bác đã gầy dựng phong trào  chỉ đạo  đôn đốc  kiểm tra tỉ mỉ tiến độ các lớp bình dân học vụ  nhằm phổ cập chữ quốc ngữ  từ ngày bác mất đến nay  chúng ta đã vâng lời của người  đã đạt được nhiều thành quả trong sự nghiệp trồng người  tâm thư của sĩ quan qđnd việt nam gửi pgs  ts bùi hiền nhận mưa lời khen từ dân mạng   ảnh 6 đề xuất cải cách bảng chữ cái của pgs ts bùi hiền nhận nhiều phản ứng gay gắt từ cư dân mạng   ảnh  internet thế nhưng  vẫn còn đâu đó trẻ em vùng cao khó nhọc cõng chữ  thất học  không biết viết  bây giờ  nếu  với cái đề án chữ mới này  nếu được thông qua  thì không chỉ đâu đó vùng cao  mà toàn dân bỗng dưng mù chữ vì phải đi học lại chữ mới của pgs ts đề xuất  chưa kể là thay tên nước  thay đổi cả hiến pháp  hệ thống văn bản trong tất cả các ngành và thay đổi cả đồng tiền  điều đó thiệt hại quá sức chịu đựng về vật chất  tinh thần     vị sĩ quan này cho rằng nếu đề án chữ mới này được thông qua thì toàn dân ta bỗng dưng trở nên mù chữ  chẳng khác gì quay lại thời kỳ pháp thuộc  khi mà chúng cố gắng ngu hóa người dân  bởi vì thay đổi bảng chữ cái  đồng nghĩa với việc thay đổi cả hiến pháp  hệ thống văn bản trong tất cả các ngành cũng như thay đổi đồng tiền  như pgs ts bùi hiền đã nói trước đó  đề xuất này sẽ giúp chúng ta tiết kiệm được thời gian  nhưng nó lại  gây thiệt hại quá sức chịu đựng về vật chất  tinh thần   tâm thư của sĩ quan qđnd việt nam gửi pgs  ts bùi hiền nhận mưa lời khen từ dân mạng   ảnh 7 chi tiết bảng chữ cái mới trong đề xuất cải cách của pgs ts bùi hiền   ảnh  internet về pgs ts bùi hiền và ts khoa học ngữ văn đoàn hương  anh viết   chính hai vị đang khủng bố tinh thần nhân dân bằng cái đề án động trời  đối chọi tâm tư nhân dân ắt sẽ có sự phản kháng  kiểu như khi thấy con trăn đói lao vào tấn công  người ta sẽ nhanh chóng chộp lấy khúc cây  mặc dù họ không muốn sát sinh bất kỳ con gì  nhưng vì buộc phải tự vệ  điều đó là đúng   sau khi được một trang fanpage chia sẻ lại  bức tâm thư này đã nhận được sự hưởng ứng nhiệt tình của cư dân mạng  họ ủng hộ vị sĩ quan này bởi anh đã thay mặt nhiều người nói lên nỗi niềm của họ  dù đã nhiều giờ trôi qua nhưng bức tâm thư này vẫn đang được cư dân mạng chia sẻ rầm rộ  gs trần đình sử   toàn dân việt nam đang thoát nạn mù chữ lại mù chữ trở lại  thời gian gần đây  dư luận đặc biệt quan tâm đến đề xuất cải cách tiếng việt của pgs ts bùi hiền  nguyên hiệu phó trường đhsp ngoại ngữ hà nội  nguyên phó viện trưởng viện nội dung   phương pháp dạy   học phổ thông   tác giả chỉ ra vấn đề rằng trải qua gần một thế kỷ  đến nay chữ quốc ngữ đã bộc lộ nhiều bất hợp lý  theo đó  chúng ta thường sử dụng 2  3 chữ cái để biểu đạt một âm vị phụ âm đứng đầu  ví dụ c   q   k  cuốc  quốc  ca  kali   tr   ch  tra  cha   s   x  sa  xa   bên cạnh đó  lại dùng 2 chữ cái ghép lại để biểu đạt âm vị một số phụ âm đứng cuối vần như ch  ng  nh  mách  ông  tanh    tác giả đề xuất bỏ chữ đ ra khỏi bảng chữ cái tiếng việt hiện hành và bổ sung thêm một số chữ cái tiếng latin như f  j  w  z  bên cạnh đó  thay đổi giá trị âm vị của 11 chữ cái hiện có trong bảng trên  cụ thể  c   ch  tr  d   đ  g   g  gh  f   ph  k   c  q  k  q   ng  ngh  r   r  s   s  x   kh  w  th  z   d  gi  r  vì âm  nhờ   nh  chưa có kí tự mới thay thế  nên trong văn bản trên tạm thời dùng kí tự ghép n  để biểu đạt  gs trần đình sử đã có những nhận định sau  nếu cái chữ của ông ấy mà được thông qua  thì toàn dân việt nam đang thoát nạn mù chữ lại mù chữ trở lại  toàn bộ sách báo hơn một trăm năm qua không thể đọc được  muốn đọc phải học lại chữ cũ  hoặc lại phải phiên dịch lại theo chữ viét mới mói đọc được  thế là cắt đứt các mội liên hệ với văn hoá mà người việt đã tích luỹ được trong hơn một thế kỉ  người việt ở các nước trên thế giới đều phải học lại tiếng việt  toàn bộ giấy tờ công văn luật pháp  nghị quyết đều phải viết lại theo chữ mới  muốn làm được việc đó lại phải tốn kém không biết bao nhiêu là tiền  lại phải viết lại toàn bộ sách giáo khoa  các văn kiện theo chữ mới  cả nước đều phải làm chứng minh thư  hộ khẩu mới  khắc dấu lại  các sứ quán việt nam trên thế giới phải thay đổi chữ viết  tóm lại là làm hại công quỹ  thì giờ  công sức một cách vô ích  mọi nghiên cứu khoa học đều phải có mục đích nhân văn  kinh tế  xã hội  đề xuất của ông hiền  vì trình độ hiểu biết xã hội và văn hoá  kinh tế quá thấp kém  sẽ gây tác hại rất to lớn cho đất nước  nó là sự huỷ hoại văn hoá</td>\n",
       "      <td>www.gioitreviet.net</td>\n",
       "      <td>1</td>\n",
       "    </tr>\n",
       "  </tbody>\n",
       "</table>\n",
       "</div>"
      ],
      "text/plain": [
       "                                                                                                                                                                                                                                                                                                                                                                                                                                                                                                                                                                                                                                                                                                                                                                                                                                                                                                                                                                                                                                                                                                                                                                                                                                                                                                                                                                                                                                                                                                                                                                                                                                                                                                                                                                                                                                                                                                                                                                                                                                                                                                                                                                                                                                                                                                                                                                                                                                                                                                                                                                                                                                                                                                                                                                                                                                                                                                                                                                                                                                                                                                                                                                                                                                                                                                                                                                                                                                                                                                                                                                                                                                                                                                                                                                                                                                                                                                                                                                                                                                                                                                                                                                                                                                                                                                                                                                                                                                                                                                                                                                                                                                                                                                                                                                                                                                                                                                                                                                                                                                                                                                                                                                                                                                                                                                                                                                                                                                                                                                                                                                                                                                                                                                                                                                                                                                                                                                                                                                                                                                                                                                                                                                                                                                                                                                                                                                                                                                                                                                                                                                                                                                                                                                                                                                                                                                                                                                                                                                                                                                                                                                                                                                                                                                                                                                                                                                                                                                                                                                                                                                                                                                                                                                                                                                                                                                                                                                                                                                                                                                                                                                                                                                                                                                                                                                                                                                                                                                                                                                                                                                                                                                                                                                                                                                                                                                                                                                                                                                                                                                                                                                                                                                   text  \\\n",
       "0                                                                                                                                                                                                                                                                                                                                                                                                                                                                                                                                                                                                                                                                                                                                                                                                                                                                                                                                                                                                                                                                                                                                                                                                                                                                                                                                                                                                                                                                                                                                                                                                                                                                                                                                                                                                                                                                                                                                                                                                                                                                                                                                                                                                                                                                                                                                                                                                                                                                                                                                                                                                                                                                                                                                                                                                                                                                                                                                                                                                                                                                                                                                                                                                                                                                                                                                                                                                                                                                                                                                                                                                                                                                                                                                                                                                                                                                                                                                                                                                                                                                                                                                                                                                                                                                                                                                                                                                                                                                                                                                                                                                                                                                                                                                                                                                                                                                                                                                                                                                                                                                                                                                                                                                                                                                                                                                                                                                                                                                                                                                                                                                                                                                                                                                                                                                                                                                                                                                                                                                                                                                                                                                                                                                                                                                                                                                                                                                                                                                                                                                                                                                                                                                                                                                                                                                                                  thủ tướng abe cúi đầu xin lỗi vì hành động phi thể thao của tuyển nhật theo sankei sports  sáng nay thủ tướng nhật bản shinzo abe công khai gửi lời xin lỗi tới nhật hoàng và toàn bộ người dân vì tinh thần thi đấu phi thể thao của đội tuyển nhật tại world cup 2018   tối qua  sau lượt trận cuối vòng bảng world cup 2018  nhật bản có cùng chỉ số phụ như senegal  đội bị loại sau khi thua colombia  nhưng nhật bản vào vòng sau nhờ chỉ số fair play vì nhận ít thẻ phạt hơn  thủ tướng nhật bản shinzo abe cúi đầu xin lỗi    với tinh thần của những võ sĩ đạo samurai  nhưng đội tuyển nhật bản đã có những hành động thiếu tinh thần thượng võ trong thi đấu tại world cup  để lại nhiều chỉ trích và bất bình cho toàn dân  làm mất hình ảnh kiên cường của người dân nhật bản trên đấu trường quốc tế  là người đứng đầu  tôi xin thành thật nhận trách nhiệm và gửi lời xin lỗi sâu sắc tới nhân dân    ông abe cúi đầu nhận trách nhiệm về mình  người nhật bản nổi tiếng về tinh thần  trách nhiệm và chất võ sĩ đạo  đó là lý do đội tuyển áo xanh được mệnh danh  samurai xanh   tuy nhiên  nhật bản sau đó nhận chỉ trích dữ dội của người hâm mộ bóng đá vì lối chơi bóng tiêu cực  cố tình câu giờ để dành tấm vé đi tiếp   cụ thể  những phút cuối trận cuối vòng bảng gặp ba lan  do biết ở trận cùng giờ  colombia cũng đang thắng senegal với tỷ số 1 0 nên dù có đang bị dẫn trước với tỉ số tương tự  các cầu thủ nhật bản cũng không hề muốn gỡ hòa  các cầu thủ nhật vui vẻ sau trận thua ba lan 0 1  có vé vào vòng 16 đội   tại world cup 2018  fifa sẽ tính điểm fair play  theo quy định 1 thẻ vàng  1 điểm  2 thẻ vàng thành thẻ đỏ  3 điểm  thẻ đỏ trực tiếp  4 điểm  nhật có 4 thẻ vàng còn senegal có đến 6   chính vì sợ lãnh thêm thẻ vàng nên nhật đã giết chết trận đấu trong những phút cuối  họ liên tục chuyền bóng qua lại ở phần sân nhà  thậm chí trong khoảng 5 phút cuối  cầu thủ nhật bản còn không đưa bóng sang phần sân đối phương  bất chấp sự la ó  huýt sáo của các cđv trên sân  điều này khiến thầy trò hlv akira nishino bị dư luận chỉ trích   với kết quả trên  nhật bản và colombia là hai đội đi tiếp của bảng h  ở vòng loại trực tiếp  nhật bản sẽ phải đối đầu với đối thủ cực mạnh là đt bỉ  trong khi đó  đội cùng đi tiếp với nhật là colombia sẽ gặp đt anh     \n",
       "1                                                                                                                                                                                                                                                                                                                                                                                                                                                                                                                                                                                                                                                                                                                                                                                                                                                                                                                                                                                                                                                                                                                                                                                                                                                                                                                                                                                                                                                                                                                                                                                                                                                                                                                                                                                                                                                                                                                                                                                                                                                                                                                                                                                                                                                                                                                                                                                                                                                                                                                                                                                                                                                                                                                                                                                                                                                                                                                                                                                                                                                                                                                                                                                                                                                                                                                                                                                                                                                                                                                                                                                                                                                                                                                                                                                                                                                                                                                                                                                                                                                                                                                                                                                                                                                                                                                                                                                                                                                                                                                                                                                                                                                                                                                                                                                                                                                                                                                                                                                                                                                                                                                                                                                                                                                                                                                                                                                                                                                                                                                                                                                                                                                                                                                                                                                                                                                                                                                                                                                                                                                                                                                                                                                                                                                                                                                                                                                                                                                                                                                                                                                                                                                                                                                                                                                                                                                                                                                                                                                                                                                                                                                                                                                                                                                                                                                                                                                                                                                                                                                                                                                                                                                                                                                                                                                                                                                                                                                                                                                                                                                                                                                                                                                                                                                  thủ tướng nhật cúi đầu xin lỗi vì tinh thần phi thể thao của đội bóng sáng 19 6  thủ tướng nhật bản shinzo abe công khai gửi lời xin lỗi tới nhật hoàng và toàn bộ người dân vì tinh thần thi đấu phi thể thao của đội tuyển nhật tại world cup 2018   với tinh thần của những võ sĩ đạo samurai  nhưng đội tuyển nhật bản đã có những hành động thiếu tinh thần thượng võ trong thi đấu tại world cup  để lại nhiều chỉ trích và bất bình cho toàn dân  làm mất hình ảnh kiên cường của người dân nhật bản trên đấu trường quốc tế  là người đứng đầu  tôi xin thành thật nhận trách nhiệm và gửi lời xin lỗi sâu sắc tới nhân dân   ông abe cúi đầu nhận trách nhiệm về mình  tôi cảm phục hành động này của thủ tướng nhật  ông ấy ý thức rất cao về hình ảnh  danh dự quốc gia  nước nhật được thế giới tôn trọng  kính nể không phải vì nước này là cường quốc kinh tế mà chính là cường quốc về lòng tự trọng    \n",
       "2                                                                                                                                                                                                                                                                                                                                                                                                                                                                                                                                                                                                                                                                                                                                                                                                                                                                                                                                                                                                                                                                                                                                                                                                                                                                                                                                                                                                                                                                                                                                                                                                                                                                                                                                                                                                                                                                                                                                                                                                                                                                                                                                                                                                                                                                                                                                                                                                                                                                                                                                                                                                                                                                                                                                                                                                                                                                                                                                                                                                                                                                                                                                                                                                                                                                                                                                                                                                                                                                                                                                                                                                                                                                                                                                                                                                                                                                                                                                                                                                                                                                                                                                                                                                                                                                                                                                                                                                                                                                                                                                                                                                                                                                                                                                                                                                                                                                                                                                                                                                                                                                                                                                                                                                                                                                                                                                                                                                                                                                                                                                                                                                                                                                                                                                                                                                                                                                                                                                                                                                                                                                                                                                                                                                                                                                                                                                                                                                                                                                                                                                                                                                                                                                                                                                                                                                                                                                                                                                                                                                                                                                                                                                                                                                                                                                                                                                                                                                                                                                                                                                                                                                                                                                                                                                                                                                                                                                                                                                                                                            choáng  cơ trưởng đeo khăn quàng quẩy banh nóc trên sân khấu trường    xót xa hình ảnh thầy trò lội bùn băng rừng đến trường ở nghệ an sau lũ  nhiều học sinh vùng cao và giáo viên ở nghệ an phải đối mặt với thiếu thốn vì giao thông bị chia cắt  cơ sở vật chất bị lũ cuốn trôi  dưới đây là một số hình ảnh học sinh và giáo viên ở nghệ an lội bùn băng rừng đến trường  xã biên giới mường típ  mường ải  huyện miền núi kỳ sơn  nghệ an là một trong những nơi đã bị lũ dữ ập đến  nhiều đoạn đường  bị hàng ngàn khối đất đá sạt lở tràn lấp khiến nơi đây bị cô lập  nhiều em học sinh phải lội bùn  băng rừng để đến trường trong hoàn cảnh khó khăn  thầy nguyễn công danh  hiệu trưởng trường phổ thông dân tộc bán trú thcs nập típ  huyện kỳ sơn  cho biết  đến thời điểm hiện tại  các giáo viên của trường mới chỉ vận động được 184 387 học sinh thcs đến trường học và 180 197 học sinh ở bậc tiểu học đến trường học trở lại  để đến trường với đoạn đường chưa đến 2km  nhiều em học sinh nơi đây phải trầy trựợt suốt hơn 2 giờ đồng hồ  các học sinh và giáo viên ở những nơi lũ đi qua  rất cần được sự giúp đỡ để vượt qua khó khăn này  nguồn      \n",
       "3                                                                                                                                                                                                                                                                                                                                                                                                                                                                                                                                                                                                                                                                                                                                                                                                                                                                                                                                                                                                                                                                                                                                                                                                                                                                                                                                                                                                                                                                                                                                                                                                                                                                                                                                                                                                                                                                                                                                                                                                                                                                                                                                                                                                                                                                                                                                                                                                                                                                                                                                                                                                                                                                                                                                                                                                                                                                                                                                                                                                                                                                                                                                                                                                                                                                                                                                                                                                                                                                                                                                                                                                                                                                                                                                                                                                                                                                                                                                                                                                                                                                                                                                                                                                                                                                                                                                                                                                                                                                                                                                                                                                                                                                                                                                                                                                                                                                                                                                                                                                                                                                                                                                                                                                                                                                                                                                                                                                                                                                                                                                                                                                                                                                                                                                                                                                                                                                                                                                                 chưa bao giờ nhạc kpop lại dễ hát đến thế    giáo sư nguyễn lân dũng   con tôi thành đạt nhờ cách đánh vần  ô vuông tam giác  gs nguyễn lân dũng khẳng định  con ông  pgs ts nguyễn lân hiếu thành công nhờ phương pháp học tiếng việt của gs hồ ngọc đại  mấy ngày nay cộng đồng mạng sục sôi khi chia sẻ thông tin có phụ huynh  nổi điên  vì con chỉ đọc câu thơ lục bát theo cách đánh vần  ô vuông  tam giác  mà không nhận diện được mặt chữ  chia sẻ về câu chuyện này  gs  nguyễn lân dũng   nguyên đại biểu quốc hội là cha của pgs ts bác sĩ nguyễn lân hiếu  thế hệ học sinh khóa đầu tiên của trường thực nghiệm và cũng là đại biểu quốc hội đương nhiệm  khẳng định   cách đánh vần là cả một vấn đề khoa học  nhiều phụ huynh không hiểu biết đầy đủ và đang nói không đúng về phương pháp này   theo gs nguyễn lân dũng  phương pháp học tiếng việt của giáo sư hồ ngọc đại rất khoa học  hợp lý  đem lại nhiều lợi ích cho học sinh  bằng chứng là đã có khoảng 800 000 người học  thống kê chưa đầy đủ  theo phương pháp này và nhiều người rất thành công  con trai tôi là pgs  nguyễn lân hiếu và bạn học của con tôi là gs ngô bảo châu là những thế hệ học sinh đầu tiên học theo phương pháp này  thời kỳ mà lân hiếu đi học tiểu học tại trường  về nhà gia đình không phải dạy dỗ thêm gì mà con có thể đọc rất hay  rất đúng  học rất khoa học  đạt thành tích học tập cao   nói thêm về phương pháp học đánh vần tiếng việt theo hình thức  ô vuông tam giác  của giáo sư hồ ngọc đại  giáo sư nguyễn lân dũng chỉ rõ  phương pháp học tiếng việt của trường thực nghiệm có sự lô gíc hợp lý về mặt sư phạm và tâm lý con người và nó có sự khác biệt  cách đọc chữ cách đọc chữ  ô vuông  tam giác  rất khoa học nhưng lại làm nhiều phụ huynh hoang mang vì hiểu chưa đúng học sinh không học đánh vần từng từ mà học cách đọc âm trước  rồi đến chữ  rồi mới ghép vần  vậy nên cách tiếp cận này trở nên lạ lùng với những ai học chữ bằng đánh vần đầu tiên  mỗi chữ cái đều có tên gọi và có sự khác biệt giữa âm và chữ  ví dụ chữ c  k  q có tên gọi khác nhau nhưng âm của nó phát ra khi ghép vào từ thì vẫn là cờ   thời kỳ nguyễn lân hiếu đi học đã học như vậy và không gặp phải bất kỳ khó khăn gì trong quá trình học tập  gia đình không phải giúp đỡ gì  đặc biệt  con đi học với tâm trạng rất vui vẻ  hạnh phúc  do vậy có thể dễ dàng đạt được nhiều thành tích cao hơn  đặc biệt  phương pháp học kiểu của thầy đại giúp học sinh dễ hiểu  dễ nhớ  tư duy logic  tìm thấy sự vui thích trong học tập để  mỗi ngày đến trường là một niềm vui   đúng như khẩu hiệu của nhà trường đề ra bấy giờ   và hơn hết  có thể tự tin nói học sinh học ở trường thực nghiệm học theo phương pháp của giáo sư hồ ngọc đại đã rất thành công  gs  ngô bảo châu  pgs nguyễn lân hiếu chính là những tấm gương điển hình gặt hái được nhiều thành công từ phương pháp học của gs đại  sự thành công của các học sinh cũng là lý do mà có những thời điểm các bậc phụ huynh ở hà nội chen nhau đăng ký cho con vào học ở trường thực nghiệm  chen chân xếp hàng chờ nộp đơn vào trường từ đầu cấp đến mức xô đổ cửa cổng trường như cách đây vài năm từng xảy ra     gs dũng chia sẻ    \n",
       "4  đại học hutech sẽ áp dụng cải cách  tiếq việt  vào năm học 2018  mới đây  ông phạm ngọc thanh  phó giám đốc sở gd   đt tp  hồ chí minh chuyên trách về hệ giáo dục đại học tại thành phố đã lên tiếng về vấn đề cải cách tiếng tiếng việt của pgs ts bùi hiền  ông cho biết tp hcm đặc biệt quan tâm đến đề xuất của pgs và rất sẵn lòng thí điểm vào giảng dạy tại các trường đại học trên địa bàn tp hcm  ông phạm ngọc thanh  phó giám đốc sở gdđt tp hcm  phó giám đốc sở gdđt tp hcm phạm ngọc thanh chia sẻ rằng tp hcm là thành phố phát triển với số lượng người nước ngoài cư trú  làm việc và học tập nhiều nhất cả nước  rất nhiều người trong số đó mong muốn được học tiếng việt để giúp ích cho việc sinh sống và làm việc tại việt nam một cách thuận tiện hơn  tuy nhiên  với cấu trúc ngữ pháp cũng như cách phát âm phức tạp của bộ chữ hiện tại thì khá khó khăn để người nước ngoài có thể học tập  sau khi xem xét và tìm hiểu toàn bộ nghiên cứu và đề xuất cải tiến bảng chữ cái tiếng việt của pgs ts bùi hiền  ông phạm ngọc thanh cho rằng đây là một nghiên cứu cực kỳ có giá trị trong việc thay đổi hầu hết những rắc rối mà bộ chữ hiện tại đang gặp phải như trùng âm  trùng nghĩa  nếu có thể áp dụng bộ chữ mới của pgs ts bùi hiền thì việc phổ cập tiếng việt đến mọi người sẽ dễ dàng hơn rất nhiều  pgs ts  bùi hiền và đề xuất cải tiến bảng chữ cái tiếng việt gây tranh cãi  do đó ông phạm ngọc thanh đã đề nghị sở gdđt tp hcm cho phép triển khai đưa nghiên cứu cải tiến bảng chữ cái của pgs ts bùi hiền áp dụng thí điểm giảng dạy ở các trường đại học trên địa bàn tp hcm  đề xuất cải tiến chữ viết của pgs bùi hiền ông phạm ngọc thanh cũng cho biết thêm  ngoài đảm đương chức vụ phó giám đốc sở gdđt tp hcm  ông còn là cổ đông lớn có quyền quyết định về chuyên môn tại đại học hutech  nên trước mắt  ông thanh đã cho các giảng viên chuyên môn của hutech tập trung nghiên cứu về đề xuất này  để có thể triển khai ngay vào giảng dạy tại đh hutech trong năm 2018  tâm thư của sĩ quan qđnd việt nam gửi pgs  ts bùi hiền nhận mưa lời khen từ dân mạng mấy ngày gần đây  đề xuất cải tiến tiếng việt của pgs ts bùi hiền bị cư dân mạng  ném đá  dữ dội  mới đây  một sĩ quan quân đội nhân dân  qđnd  việt nam đã viết tâm thư gửi vị pgs ts này để bày tỏ quan điểm về đề xuất cải tiến tiếng việt của ông khiến cộng đồng mạng vô cùng chú ý  chỉ sau vài giờ đăng tải  bức tâm thư của người sĩ quan này đã nhận được sự hưởng ứng vô cùng nhiệt tình của cư dân mạng  khác với những phản ứng gay gắt của dư luận nhiều ngày qua  người sĩ quan này tỏ ra rất tôn trọng công trình nghiên cứu của pgs ts bùi hiền  trước khi viết tâm thư  anh cũng đã thử đi ngược lại dư luận bởi những phát minh vĩ đại trước đây đều bị người ta xem là điên rồ   thưa phó giáo sư   tiến sĩ bùi hiền  đầu tiên  cháu cảm ơn tâm huyết 40 năm nghiên cứu ngôn ngữ tiếng việt của phó giáo sư  tiến sĩ  thưa pgs ts bùi hiền  cháu không phải là giới nghiên cứu  cháu chỉ là anh lính canh trời trong qđnd việt nam  nhưng thú thật với pgs ts bùi hiền  mấy hôm nay cháu và mọi người bất an quá  thậm chí rất bức xúc  rất giận pgs ts  pgs ts bùi hiền có biết không  đôi lúc  cháu cũng đã nghĩ ngược lại suy nghĩ của quần chúng xem như thế nào  nghĩa là cháu liên hệ với các phát minh trên thế giới  trước kia người ta bảo rằng đấy là điên rồ  nhưng sau đấy lại là công trình vĩ đại được ứng dụng cho nhân loại   bức tâm thư vị sĩ quan quân đội nhân dân việt nam gửi pgs ts bùi hiền   ảnh chụp màn hình tuy nhiên  không phải bất cứ công trình nào nghiên cứu nào đi ngược lại với đám đông cũng sẽ trở thành công trình vĩ đại  sở dĩ những phát minh trong quá khứ được công nhận là bởi nó không ảnh hưởng đến tình cảm  tư tưởng của mọi người  trong khi đó  bảng chữ cái tiếng việt mà chúng ta sử dụng được xây dựng bởi mồ hôi  nước mắt thậm chí là xương máu của biết bao chiến sĩ khi cố gắng thực hiện công tác xóa mù chữ cho dân ta trong thời chiến  anh viết   pgs ts có biết rằng trước đấy  thực dân pháp đã thực hiện chính sách ngu dân  toàn dân không biết chữ để buộc ta phải chui háng của chúng  phục dịch pháp  chúng làm cho nhân dân ta bĩ cực  không dám nghĩ đến phẩm hạnh  phẩm giá dân tộc mình  thưa  may phúc cho dân tộc ta có bác hồ  có đảng cộng sản lãnh đạo phong trào cách mạng  khai sinh ra nước vndcch  việt nam dân chủ cộng hòa  nay là chxhcn vn  cộng hòa xã hội chủ nghĩa việt nam   cũng trong năm 1945 bác hồ của chúng ta đã ra lệnh phải tiêu diệt giặc đói  giặc dốt  bác đã gầy dựng phong trào  chỉ đạo  đôn đốc  kiểm tra tỉ mỉ tiến độ các lớp bình dân học vụ  nhằm phổ cập chữ quốc ngữ  từ ngày bác mất đến nay  chúng ta đã vâng lời của người  đã đạt được nhiều thành quả trong sự nghiệp trồng người  tâm thư của sĩ quan qđnd việt nam gửi pgs  ts bùi hiền nhận mưa lời khen từ dân mạng   ảnh 6 đề xuất cải cách bảng chữ cái của pgs ts bùi hiền nhận nhiều phản ứng gay gắt từ cư dân mạng   ảnh  internet thế nhưng  vẫn còn đâu đó trẻ em vùng cao khó nhọc cõng chữ  thất học  không biết viết  bây giờ  nếu  với cái đề án chữ mới này  nếu được thông qua  thì không chỉ đâu đó vùng cao  mà toàn dân bỗng dưng mù chữ vì phải đi học lại chữ mới của pgs ts đề xuất  chưa kể là thay tên nước  thay đổi cả hiến pháp  hệ thống văn bản trong tất cả các ngành và thay đổi cả đồng tiền  điều đó thiệt hại quá sức chịu đựng về vật chất  tinh thần     vị sĩ quan này cho rằng nếu đề án chữ mới này được thông qua thì toàn dân ta bỗng dưng trở nên mù chữ  chẳng khác gì quay lại thời kỳ pháp thuộc  khi mà chúng cố gắng ngu hóa người dân  bởi vì thay đổi bảng chữ cái  đồng nghĩa với việc thay đổi cả hiến pháp  hệ thống văn bản trong tất cả các ngành cũng như thay đổi đồng tiền  như pgs ts bùi hiền đã nói trước đó  đề xuất này sẽ giúp chúng ta tiết kiệm được thời gian  nhưng nó lại  gây thiệt hại quá sức chịu đựng về vật chất  tinh thần   tâm thư của sĩ quan qđnd việt nam gửi pgs  ts bùi hiền nhận mưa lời khen từ dân mạng   ảnh 7 chi tiết bảng chữ cái mới trong đề xuất cải cách của pgs ts bùi hiền   ảnh  internet về pgs ts bùi hiền và ts khoa học ngữ văn đoàn hương  anh viết   chính hai vị đang khủng bố tinh thần nhân dân bằng cái đề án động trời  đối chọi tâm tư nhân dân ắt sẽ có sự phản kháng  kiểu như khi thấy con trăn đói lao vào tấn công  người ta sẽ nhanh chóng chộp lấy khúc cây  mặc dù họ không muốn sát sinh bất kỳ con gì  nhưng vì buộc phải tự vệ  điều đó là đúng   sau khi được một trang fanpage chia sẻ lại  bức tâm thư này đã nhận được sự hưởng ứng nhiệt tình của cư dân mạng  họ ủng hộ vị sĩ quan này bởi anh đã thay mặt nhiều người nói lên nỗi niềm của họ  dù đã nhiều giờ trôi qua nhưng bức tâm thư này vẫn đang được cư dân mạng chia sẻ rầm rộ  gs trần đình sử   toàn dân việt nam đang thoát nạn mù chữ lại mù chữ trở lại  thời gian gần đây  dư luận đặc biệt quan tâm đến đề xuất cải cách tiếng việt của pgs ts bùi hiền  nguyên hiệu phó trường đhsp ngoại ngữ hà nội  nguyên phó viện trưởng viện nội dung   phương pháp dạy   học phổ thông   tác giả chỉ ra vấn đề rằng trải qua gần một thế kỷ  đến nay chữ quốc ngữ đã bộc lộ nhiều bất hợp lý  theo đó  chúng ta thường sử dụng 2  3 chữ cái để biểu đạt một âm vị phụ âm đứng đầu  ví dụ c   q   k  cuốc  quốc  ca  kali   tr   ch  tra  cha   s   x  sa  xa   bên cạnh đó  lại dùng 2 chữ cái ghép lại để biểu đạt âm vị một số phụ âm đứng cuối vần như ch  ng  nh  mách  ông  tanh    tác giả đề xuất bỏ chữ đ ra khỏi bảng chữ cái tiếng việt hiện hành và bổ sung thêm một số chữ cái tiếng latin như f  j  w  z  bên cạnh đó  thay đổi giá trị âm vị của 11 chữ cái hiện có trong bảng trên  cụ thể  c   ch  tr  d   đ  g   g  gh  f   ph  k   c  q  k  q   ng  ngh  r   r  s   s  x   kh  w  th  z   d  gi  r  vì âm  nhờ   nh  chưa có kí tự mới thay thế  nên trong văn bản trên tạm thời dùng kí tự ghép n  để biểu đạt  gs trần đình sử đã có những nhận định sau  nếu cái chữ của ông ấy mà được thông qua  thì toàn dân việt nam đang thoát nạn mù chữ lại mù chữ trở lại  toàn bộ sách báo hơn một trăm năm qua không thể đọc được  muốn đọc phải học lại chữ cũ  hoặc lại phải phiên dịch lại theo chữ viét mới mói đọc được  thế là cắt đứt các mội liên hệ với văn hoá mà người việt đã tích luỹ được trong hơn một thế kỉ  người việt ở các nước trên thế giới đều phải học lại tiếng việt  toàn bộ giấy tờ công văn luật pháp  nghị quyết đều phải viết lại theo chữ mới  muốn làm được việc đó lại phải tốn kém không biết bao nhiêu là tiền  lại phải viết lại toàn bộ sách giáo khoa  các văn kiện theo chữ mới  cả nước đều phải làm chứng minh thư  hộ khẩu mới  khắc dấu lại  các sứ quán việt nam trên thế giới phải thay đổi chữ viết  tóm lại là làm hại công quỹ  thì giờ  công sức một cách vô ích  mọi nghiên cứu khoa học đều phải có mục đích nhân văn  kinh tế  xã hội  đề xuất của ông hiền  vì trình độ hiểu biết xã hội và văn hoá  kinh tế quá thấp kém  sẽ gây tác hại rất to lớn cho đất nước  nó là sự huỷ hoại văn hoá    \n",
       "\n",
       "                domain  label  \n",
       "0         binhluan.biz      1  \n",
       "1         www.ipick.vn      1  \n",
       "2       tintucqpvn.net      1  \n",
       "3       tintucqpvn.net      1  \n",
       "4  www.gioitreviet.net      1  "
      ]
     },
     "execution_count": 25,
     "metadata": {},
     "output_type": "execute_result"
    }
   ],
   "source": [
    "data_df.head()"
   ]
  },
  {
   "cell_type": "markdown",
   "id": "v5qBbQGnr8E-",
   "metadata": {
    "id": "v5qBbQGnr8E-"
   },
   "source": [
    "### Tokenizer"
   ]
  },
  {
   "cell_type": "code",
   "execution_count": 26,
   "id": "e65211ce",
   "metadata": {
    "id": "e65211ce"
   },
   "outputs": [],
   "source": [
    "def tokenize(sentence):\n",
    "    return word_tokenize(sentence, format = 'word')"
   ]
  },
  {
   "cell_type": "markdown",
   "id": "f7ca9d1e",
   "metadata": {},
   "source": [
    "## Mô hình hóa"
   ]
  },
  {
   "cell_type": "markdown",
   "id": "49d354d2",
   "metadata": {},
   "source": [
    "- Chuyển đoạn văn tiếng Việt về vector, sử dụng CountVectorizer của sklearn\n",
    "- với các tham số là danh sách stopwords tiếng Việt \n",
    "- và tokenizer tách từ tiếng Việt"
   ]
  },
  {
   "cell_type": "code",
   "execution_count": 27,
   "id": "6963f651",
   "metadata": {
    "id": "6963f651"
   },
   "outputs": [],
   "source": [
    "vectorizer = CountVectorizer(\n",
    "    stop_words = stopWords,\n",
    "    tokenizer = tokenize\n",
    ")"
   ]
  },
  {
   "cell_type": "markdown",
   "id": "2fb46451",
   "metadata": {},
   "source": [
    "Chia tập dữ liệu thành 2 tập\n",
    "- Tập train: `75%`\n",
    "- Tập test: `25%`"
   ]
  },
  {
   "cell_type": "code",
   "execution_count": 28,
   "id": "b90b37f1",
   "metadata": {
    "colab": {
     "base_uri": "https://localhost:8080/"
    },
    "id": "b90b37f1",
    "outputId": "27e2f71f-0bf6-4569-8381-15634aca73bd"
   },
   "outputs": [
    {
     "name": "stderr",
     "output_type": "stream",
     "text": [
      "C:\\ProgramData\\Anaconda3\\envs\\min_ds-env\\lib\\site-packages\\sklearn\\feature_extraction\\text.py:388: UserWarning: Your stop_words may be inconsistent with your preprocessing. Tokenizing the stop words generated tokens ['a', 'bao', 'bất', 'bất ý', 'bập', 'chi', 'chí', 'chót', 'chưng', 'chẳng', 'chết', 'chừng', 'coi', 'câu', 'cóc', 'cạnh', 'cảm', 'cật', 'cắt', 'cực', 'da', 'giời', 'hiện', 'hầu', 'hẳn', 'khô', 'kì', 'kỳ', 'lí', 'lô', 'lý', 'lẽ', 'lị', 'mày', 'mòi', 'mấy', 'mẹ', 'ngõ', 'nhiên', 'nhược', 'nhỡ', 'nỗi', 'phương', 'sợ', 'sức', 'thiên địa', 'thành', 'thái', 'thảo', 'thảy', 'thử', 'thực', 'tiếp', 'tiệt', 'trời đất', 'tuốt', 'tuồn tuột', 'tuồng', 'tàn', 'tàn tán', 'tán', 'tề', 'tỏ', 'tức', 'vung', 'ví', 'vô', 'vạn', 'vả', 'vẻ', 'xuất', 'xảy', 'xửa', 'âu', 'ô', 'ôi', 'đi', 'đành', 'đánh', 'đáo', 'đùng', 'đạch', 'đại', 'ối'] not in stop_words.\n",
      "  warnings.warn('Your stop_words may be inconsistent with '\n"
     ]
    }
   ],
   "source": [
    "X = data_df[\"text\"]\n",
    "y = data_df[\"label\"]\n",
    "X_train, X_test, y_train, y_test = train_test_split(X, y, \n",
    "                                                    test_size=0.25,\n",
    "                                                   random_state=30)\n",
    "Xv_train = vectorizer.fit_transform(X_train)\n",
    "Xv_test = vectorizer.transform(X_test)"
   ]
  },
  {
   "cell_type": "code",
   "execution_count": 29,
   "id": "2189b2a5",
   "metadata": {
    "colab": {
     "base_uri": "https://localhost:8080/"
    },
    "id": "2189b2a5",
    "outputId": "ffbae8c8-b858-4f77-9b0a-91072ef5bca3"
   },
   "outputs": [
    {
     "data": {
      "text/plain": [
       "['vectorizer.joblib']"
      ]
     },
     "execution_count": 29,
     "metadata": {},
     "output_type": "execute_result"
    }
   ],
   "source": [
    "#save model vectorizer\n",
    "joblib.dump(vectorizer, 'vectorizer.joblib')"
   ]
  },
  {
   "cell_type": "markdown",
   "id": "62d73c54",
   "metadata": {},
   "source": [
    "### Decision Tree"
   ]
  },
  {
   "cell_type": "code",
   "execution_count": 30,
   "id": "df24b239",
   "metadata": {
    "colab": {
     "base_uri": "https://localhost:8080/"
    },
    "id": "df24b239",
    "outputId": "74270400-2d63-428e-acd9-af7c88f1f7a0"
   },
   "outputs": [
    {
     "data": {
      "text/plain": [
       "DecisionTreeClassifier()"
      ]
     },
     "execution_count": 30,
     "metadata": {},
     "output_type": "execute_result"
    }
   ],
   "source": [
    "\n",
    "DT = DecisionTreeClassifier()\n",
    "DT.fit(Xv_train,y_train)\n"
   ]
  },
  {
   "cell_type": "code",
   "execution_count": 31,
   "id": "135f6d10",
   "metadata": {
    "colab": {
     "base_uri": "https://localhost:8080/"
    },
    "id": "135f6d10",
    "outputId": "8c168abd-2804-490f-c723-e11fd1214961"
   },
   "outputs": [
    {
     "name": "stdout",
     "output_type": "stream",
     "text": [
      "0.7321428571428571\n"
     ]
    },
    {
     "data": {
      "text/plain": [
       "['DT_model.joblib']"
      ]
     },
     "execution_count": 31,
     "metadata": {},
     "output_type": "execute_result"
    }
   ],
   "source": [
    "pred_dt = DT.predict(Xv_test)\n",
    "print(DT.score(Xv_test, y_test))\n",
    "#save model Decision Tree\n",
    "joblib.dump(DT, 'DT_model.joblib')"
   ]
  },
  {
   "cell_type": "markdown",
   "id": "f96214a0",
   "metadata": {},
   "source": [
    "### Naive Bayes"
   ]
  },
  {
   "cell_type": "code",
   "execution_count": 32,
   "id": "25f06512",
   "metadata": {
    "colab": {
     "base_uri": "https://localhost:8080/"
    },
    "id": "25f06512",
    "outputId": "bc1c855d-49f0-430e-bc74-b0943557abc4"
   },
   "outputs": [
    {
     "data": {
      "text/plain": [
       "MultinomialNB()"
      ]
     },
     "execution_count": 32,
     "metadata": {},
     "output_type": "execute_result"
    }
   ],
   "source": [
    "NB = MultinomialNB()\n",
    "NB.fit(Xv_train,y_train)\n"
   ]
  },
  {
   "cell_type": "code",
   "execution_count": 33,
   "id": "12db51f2",
   "metadata": {
    "colab": {
     "base_uri": "https://localhost:8080/"
    },
    "id": "12db51f2",
    "outputId": "83628a9c-cd9a-42ee-97d0-39b16daae657"
   },
   "outputs": [
    {
     "name": "stdout",
     "output_type": "stream",
     "text": [
      "0.9464285714285714\n"
     ]
    },
    {
     "data": {
      "text/plain": [
       "['NB_model.joblib']"
      ]
     },
     "execution_count": 33,
     "metadata": {},
     "output_type": "execute_result"
    }
   ],
   "source": [
    "pred_nb = DT.predict(Xv_test)\n",
    "print(NB.score(Xv_test, y_test))\n",
    "#save model Naive Bayes\n",
    "joblib.dump(NB, 'NB_model.joblib')"
   ]
  },
  {
   "cell_type": "markdown",
   "id": "6fa018a7",
   "metadata": {},
   "source": [
    "#### Đánh giá mô hình"
   ]
  },
  {
   "cell_type": "markdown",
   "id": "a90ca063",
   "metadata": {},
   "source": [
    "- Mô hình với Decesion Tree có độ chính xác khá thấp khoảng 70%\n",
    "- Mô hình với Naive Bayes có độ chính xác cao khoảng 95%\n"
   ]
  }
 ],
 "metadata": {
  "colab": {
   "collapsed_sections": [],
   "name": "project3.ipynb",
   "provenance": []
  },
  "kernelspec": {
   "display_name": "Python 3 (ipykernel)",
   "language": "python",
   "name": "python3"
  },
  "language_info": {
   "codemirror_mode": {
    "name": "ipython",
    "version": 3
   },
   "file_extension": ".py",
   "mimetype": "text/x-python",
   "name": "python",
   "nbconvert_exporter": "python",
   "pygments_lexer": "ipython3",
   "version": "3.8.8"
  }
 },
 "nbformat": 4,
 "nbformat_minor": 5
}
